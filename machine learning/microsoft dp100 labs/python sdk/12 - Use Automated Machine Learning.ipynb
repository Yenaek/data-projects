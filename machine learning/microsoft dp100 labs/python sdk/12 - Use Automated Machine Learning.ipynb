{
  "cells": [
    {
      "cell_type": "markdown",
      "source": [
        "# Use Automated Machine Learning\n",
        "\n",
        "There are many kinds of machine learning algorithm that you can use to train a model, and sometimes it's not easy to determine the most effective algorithm for your particular data and prediction requirements. Additionally, you can significantly affect the predictive performance of a model by preprocessing the training data, using techniques such as normalization, missing feature imputation, and others. In your quest to find the *best* model for your requirements, you may need to try many combinations of algorithms and preprocessing transformations; which takes a lot of time and compute resources.\n",
        "\n",
        "Azure Machine Learning enables you to automate the comparison of models trained using different algorithms and preprocessing options. You can use the visual interface in [Azure Machine Learning studio](https://ml/azure.com) or the SDK to leverage this capability. The SDK gives you greater control over the settings for the automated machine learning experiment, but the visual interface is easier to use.\n",
        "\n",
        "## Before you start\n",
        "\n",
        "In addition to the latest version of the **azureml-sdk** and **azureml-widgets** packages, you'll need the **azureml-train-automl** package to run the code in this notebook. Run the cell below to verify that it is installed."
      ],
      "metadata": {}
    },
    {
      "cell_type": "code",
      "source": [
        "!pip show azureml-train-automl"
      ],
      "outputs": [
        {
          "output_type": "stream",
          "name": "stdout",
          "text": [
            "Name: azureml-train-automl\r\n",
            "Version: 1.27.0\r\n",
            "Summary: automl\r\n",
            "Home-page: https://docs.microsoft.com/python/api/overview/azure/ml/?view=azure-ml-py\r\n",
            "Author: Microsoft Corp\r\n",
            "Author-email: None\r\n",
            "License: https://aka.ms/azureml-sdk-license\r\n",
            "Location: /anaconda/envs/azureml_py36/lib/python3.6/site-packages\r\n",
            "Requires: azureml-train-automl-runtime, azureml-automl-runtime, azureml-train-automl-client, azureml-automl-core, azureml-dataset-runtime\r\n",
            "Required-by: azureml-automl-dnn-nlp\r\n"
          ]
        }
      ],
      "execution_count": 1,
      "metadata": {}
    },
    {
      "cell_type": "markdown",
      "source": [
        "## Connect to your workspace\n",
        "\n",
        "With the required SDK packages installed, now you're ready to connect to your workspace.\n",
        "\n",
        "> **Note**: If you haven't already established an authenticated session with your Azure subscription, you'll be prompted to authenticate by clicking a link, entering an authentication code, and signing into Azure."
      ],
      "metadata": {}
    },
    {
      "cell_type": "code",
      "source": [
        "import azureml.core\n",
        "from azureml.core import Workspace\n",
        "\n",
        "# Load the workspace from the saved config file\n",
        "ws = Workspace.from_config()\n",
        "print('Ready to use Azure ML {} to work with {}'.format(azureml.core.VERSION, ws.name))"
      ],
      "outputs": [
        {
          "output_type": "stream",
          "name": "stdout",
          "text": [
            "Ready to use Azure ML 1.27.0 to work with dp-100-study-jc\n"
          ]
        }
      ],
      "execution_count": 2,
      "metadata": {
        "gather": {
          "logged": 1620639314687
        }
      }
    },
    {
      "cell_type": "markdown",
      "source": [
        "## Prepare data\n",
        "\n",
        "You don't need to create a training script for automated machine learning, but you do need to load the training data. In this case, you'll use a dataset containing details of diabetes patients, and then split this into two datasets: one for training, and another for model validation."
      ],
      "metadata": {}
    },
    {
      "cell_type": "code",
      "source": [
        "from azureml.core import Dataset\n",
        "\n",
        "default_ds = ws.get_default_datastore()\n",
        "\n",
        "if 'diabetes dataset' not in ws.datasets:\n",
        "    # Upload local files to datastore\n",
        "    default_ds.upload_files(\n",
        "        files = ['./data/diabetes.csv', './data/diabetes2.csv'],\n",
        "        target_path = 'diabetes-data/',\n",
        "        overwrite = True,\n",
        "        show_progress = True\n",
        "    )\n",
        "\n",
        "    #Create a tabular dataset from the path on the datastore (this may take a short while)\n",
        "    tab_data_set = Dataset.Tabular.from_delimited_files(path=(default_ds, 'diabetes-data/*.csv'))\n",
        "\n",
        "    # Register the tabular dataset\n",
        "    try:\n",
        "        tab_data_set = tab_data_set.register(\n",
        "            workspace = ws, \n",
        "            name = 'diabetes dataset',\n",
        "            description = 'diabetes data',\n",
        "            tags = {'format':'CSV'},\n",
        "            create_new_version = True\n",
        "        )\n",
        "        print('Dataset registered.')\n",
        "    except Exception as ex:\n",
        "        print(ex)\n",
        "else:\n",
        "    print('Dataset already registered.')\n",
        "\n",
        "\n",
        "# Split the dataset into training and validation subsets\n",
        "diabetes_ds = ws.datasets.get(\"diabetes dataset\")\n",
        "# 70% for traininig, 30% for testing\n",
        "train_ds, test_ds = diabetes_ds.random_split(percentage=0.7, seed=123)\n",
        "print(\"Data ready!\")"
      ],
      "outputs": [
        {
          "output_type": "stream",
          "name": "stdout",
          "text": [
            "Uploading an estimated of 2 files\n",
            "Uploading ./data/diabetes.csv\n",
            "Uploaded ./data/diabetes.csv, 1 files out of an estimated total of 2\n",
            "Uploading ./data/diabetes2.csv\n",
            "Uploaded ./data/diabetes2.csv, 2 files out of an estimated total of 2\n",
            "Uploaded 2 files\n",
            "Dataset registered.\n",
            "Data ready!\n"
          ]
        }
      ],
      "execution_count": 3,
      "metadata": {
        "gather": {
          "logged": 1620639346936
        }
      }
    },
    {
      "cell_type": "markdown",
      "source": [
        "## Prepare compute\n",
        "\n",
        "One of the benefits of cloud compute is that it scales on-demand, enabling you to provision enough compute resources to process multiple child-runs of an automated machine learning experiment in parallel.\n",
        "\n",
        "Use the following code to specify an Azure Machine Learning compute cluster (it will be created if it doesn't already exist)..\n",
        "\n",
        "> **Important**: Change *your-compute-cluster* to the name of your compute cluster in the code below before running it! Cluster names must be globally unique names between 2 to 16 characters in length. Valid characters are letters, digits, and the - character."
      ],
      "metadata": {}
    },
    {
      "cell_type": "code",
      "source": [
        "from azureml.core.compute import ComputeTarget, AmlCompute\n",
        "from azureml.core.compute_target import ComputeTargetException\n",
        "\n",
        "cluster_name = \"dp-100-study-jc\"\n",
        "\n",
        "try:\n",
        "    # Check for existing compute target\n",
        "    training_cluster = ComputeTarget(workspace=ws, name=cluster_name)\n",
        "    print('Found existing cluster, use it.')\n",
        "except ComputeTargetException:\n",
        "    # If it doesn't already exist, create it\n",
        "    try:\n",
        "        compute_config = AmlCompute.provisioning_configuration(vm_size='STANDARD_DS11_V2', max_nodes=2)\n",
        "        training_cluster = ComputeTarget.create(ws, cluster_name, compute_config)\n",
        "        training_cluster.wait_for_completion(show_output=True)\n",
        "    except Exception as ex:\n",
        "        print(ex)\n",
        "    "
      ],
      "outputs": [
        {
          "output_type": "stream",
          "name": "stdout",
          "text": [
            "Found existing cluster, use it.\n"
          ]
        }
      ],
      "execution_count": 5,
      "metadata": {
        "gather": {
          "logged": 1620639486089
        }
      }
    },
    {
      "cell_type": "markdown",
      "source": [
        "## Configure automated machine learning\n",
        "\n",
        "Now you're ready to configure the automated machine learning experiment.\n",
        "\n",
        "One of the most important configuration settings is the metric by which model performance should be evaluated. You can retrieve a list of the metrics that are calculated by automated machine learning for a particular type of model task (classification or regression) like this:"
      ],
      "metadata": {}
    },
    {
      "cell_type": "code",
      "source": [
        "import azureml.train.automl.utilities as automl_utils\n",
        "\n",
        "for metric in automl_utils.get_primary_metrics('classification'):\n",
        "    print(metric)"
      ],
      "outputs": [
        {
          "output_type": "stream",
          "name": "stdout",
          "text": [
            "precision_score_weighted\n",
            "norm_macro_recall\n",
            "average_precision_score_weighted\n",
            "accuracy\n",
            "AUC_weighted\n"
          ]
        }
      ],
      "execution_count": 6,
      "metadata": {
        "gather": {
          "logged": 1620639505910
        }
      }
    },
    {
      "cell_type": "code",
      "source": [
        "for metric in automl_utils.get_primary_metrics('regression'):\r\n",
        "    print(metric)"
      ],
      "outputs": [
        {
          "output_type": "stream",
          "name": "stdout",
          "text": [
            "spearman_correlation\n",
            "normalized_mean_absolute_error\n",
            "normalized_root_mean_squared_error\n",
            "r2_score\n"
          ]
        }
      ],
      "execution_count": 7,
      "metadata": {
        "collapsed": true,
        "jupyter": {
          "source_hidden": false,
          "outputs_hidden": false
        },
        "nteract": {
          "transient": {
            "deleting": false
          }
        },
        "gather": {
          "logged": 1620639528727
        }
      }
    },
    {
      "cell_type": "markdown",
      "source": [
        "Having decided the metric you want to optimize (in this example, *AUC_weighted*), you can configure the automated machine learning run. To do this, you'll need an AutoML configuration that specifies the target metric as well as options like the data to use, how many combinations to try, and so on.\n",
        "\n",
        "> **Note**: In this example, you'll restrict the experiment to 4 iterations to reduce the amount of time taken. In reality, you'd likely try many more iterations."
      ],
      "metadata": {}
    },
    {
      "cell_type": "code",
      "source": [
        "from azureml.train.automl import AutoMLConfig\n",
        "\n",
        "automl_config = AutoMLConfig(\n",
        "    name = 'Automated ML Experiment',\n",
        "    task = 'classification',\n",
        "    compute_target = training_cluster,\n",
        "    training_data = train_ds,\n",
        "    validation_data = test_ds,\n",
        "    label_column_name = 'Diabetic',\n",
        "    iterations = 4,\n",
        "    primary_metric = 'AUC_weighted',\n",
        "    max_concurrent_iterations = 2,\n",
        "    featurization = 'auto'\n",
        ")\n",
        "\n",
        "print(\"Ready for Auto ML run.\")"
      ],
      "outputs": [
        {
          "output_type": "stream",
          "name": "stdout",
          "text": [
            "Ready for Auto ML run.\n"
          ]
        }
      ],
      "execution_count": 10,
      "metadata": {
        "gather": {
          "logged": 1620639630159
        }
      }
    },
    {
      "cell_type": "markdown",
      "source": [
        "## Run an automated machine learning experiment\n",
        "\n",
        "OK, you're ready to go. Let's run the automated machine learning experiment.\n",
        "\n",
        "> **Note**: This may take some time!"
      ],
      "metadata": {}
    },
    {
      "cell_type": "code",
      "source": [
        "from azureml.core.experiment import Experiment\n",
        "from azureml.widgets import RunDetails\n",
        "\n",
        "print('Submitting Auto ML experiment...')\n",
        "automl_experiment = Experiment(ws, 'mslearn-diabetes-automl-sdk')\n",
        "automl_run = automl_experiment.submit(automl_config)\n",
        "RunDetails(automl_run).show()\n",
        "automl_run.wait_for_completion(show_output=True)"
      ],
      "outputs": [
        {
          "output_type": "stream",
          "name": "stdout",
          "text": [
            "Submitting Auto ML experiment...\n",
            "Submitting remote run.\n"
          ]
        },
        {
          "output_type": "display_data",
          "data": {
            "text/plain": "<IPython.core.display.HTML object>",
            "text/html": "<table style=\"width:100%\"><tr><th>Experiment</th><th>Id</th><th>Type</th><th>Status</th><th>Details Page</th><th>Docs Page</th></tr><tr><td>mslearn-diabetes-automl-sdk</td><td>AutoML_af2d1129-c8dd-4000-be1a-3e4f42d8e882</td><td>automl</td><td>NotStarted</td><td><a href=\"https://ml.azure.com/runs/AutoML_af2d1129-c8dd-4000-be1a-3e4f42d8e882?wsid=/subscriptions/df741348-6c47-45d1-9bfc-1b8dbf6a4efa/resourcegroups/dp-100-study-jc/workspaces/dp-100-study-jc&amp;tid=d51de596-45a0-4aa5-a0d8-47d1c958aa32\" target=\"_blank\" rel=\"noopener\">Link to Azure Machine Learning studio</a></td><td><a href=\"https://docs.microsoft.com/en-us/python/api/overview/azure/ml/intro?view=azure-ml-py\" target=\"_blank\" rel=\"noopener\">Link to Documentation</a></td></tr></table>"
          },
          "metadata": {}
        },
        {
          "output_type": "display_data",
          "data": {
            "text/plain": "_AutoMLWidget(widget_settings={'childWidgetDisplay': 'popup', 'send_telemetry': False, 'log_level': 'INFO', 's…",
            "application/vnd.jupyter.widget-view+json": {
              "version_major": 2,
              "version_minor": 0,
              "model_id": "7e0fb968f8c74093a4075d08d5e2a89c"
            }
          },
          "metadata": {}
        },
        {
          "output_type": "display_data",
          "data": {
            "application/aml.mini.widget.v1": "{\"status\": \"Completed\", \"workbench_run_details_uri\": \"https://ml.azure.com/runs/AutoML_af2d1129-c8dd-4000-be1a-3e4f42d8e882?wsid=/subscriptions/df741348-6c47-45d1-9bfc-1b8dbf6a4efa/resourcegroups/dp-100-study-jc/workspaces/dp-100-study-jc&tid=d51de596-45a0-4aa5-a0d8-47d1c958aa32\", \"run_id\": \"AutoML_af2d1129-c8dd-4000-be1a-3e4f42d8e882\", \"run_properties\": {\"run_id\": \"AutoML_af2d1129-c8dd-4000-be1a-3e4f42d8e882\", \"created_utc\": \"2021-05-10T09:46:26.563147Z\", \"properties\": {\"num_iterations\": \"4\", \"training_type\": \"TrainFull\", \"acquisition_function\": \"EI\", \"primary_metric\": \"AUC_weighted\", \"train_split\": \"0\", \"acquisition_parameter\": \"0\", \"num_cross_validation\": null, \"target\": \"dp-100-study-jc\", \"AMLSettingsJsonString\": \"{\\\"path\\\":null,\\\"name\\\":\\\"Automated ML Experiment\\\",\\\"subscription_id\\\":\\\"df741348-6c47-45d1-9bfc-1b8dbf6a4efa\\\",\\\"resource_group\\\":\\\"dp-100-study-jc\\\",\\\"workspace_name\\\":\\\"dp-100-study-jc\\\",\\\"region\\\":\\\"uksouth\\\",\\\"compute_target\\\":\\\"dp-100-study-jc\\\",\\\"spark_service\\\":null,\\\"azure_service\\\":\\\"remote\\\",\\\"many_models\\\":false,\\\"pipeline_fetch_max_batch_size\\\":1,\\\"enable_batch_run\\\":false,\\\"enable_run_restructure\\\":false,\\\"start_auxiliary_runs_before_parent_complete\\\":false,\\\"iterations\\\":4,\\\"primary_metric\\\":\\\"AUC_weighted\\\",\\\"task_type\\\":\\\"classification\\\",\\\"data_script\\\":null,\\\"test_size\\\":0.0,\\\"validation_size\\\":0.0,\\\"n_cross_validations\\\":null,\\\"y_min\\\":null,\\\"y_max\\\":null,\\\"num_classes\\\":null,\\\"featurization\\\":\\\"auto\\\",\\\"_ignore_package_version_incompatibilities\\\":false,\\\"is_timeseries\\\":false,\\\"max_cores_per_iteration\\\":1,\\\"max_concurrent_iterations\\\":2,\\\"iteration_timeout_minutes\\\":null,\\\"mem_in_mb\\\":null,\\\"enforce_time_on_windows\\\":false,\\\"experiment_timeout_minutes\\\":8640,\\\"experiment_exit_score\\\":null,\\\"whitelist_models\\\":null,\\\"blacklist_algos\\\":[\\\"TensorFlowLinearClassifier\\\",\\\"TensorFlowDNN\\\"],\\\"supported_models\\\":[\\\"LogisticRegression\\\",\\\"TensorFlowLinearClassifier\\\",\\\"RandomForest\\\",\\\"AveragedPerceptronClassifier\\\",\\\"LinearSVM\\\",\\\"GradientBoosting\\\",\\\"XGBoostClassifier\\\",\\\"KNN\\\",\\\"DecisionTree\\\",\\\"ExtremeRandomTrees\\\",\\\"BernoulliNaiveBayes\\\",\\\"SGD\\\",\\\"LightGBM\\\",\\\"MultinomialNaiveBayes\\\",\\\"TensorFlowDNN\\\",\\\"SVM\\\"],\\\"private_models\\\":[],\\\"auto_blacklist\\\":true,\\\"blacklist_samples_reached\\\":false,\\\"exclude_nan_labels\\\":true,\\\"verbosity\\\":20,\\\"_debug_log\\\":\\\"azureml_automl.log\\\",\\\"show_warnings\\\":false,\\\"model_explainability\\\":true,\\\"service_url\\\":null,\\\"sdk_url\\\":null,\\\"sdk_packages\\\":null,\\\"enable_onnx_compatible_models\\\":false,\\\"enable_split_onnx_featurizer_estimator_models\\\":false,\\\"vm_type\\\":\\\"STANDARD_D11_V2\\\",\\\"telemetry_verbosity\\\":20,\\\"send_telemetry\\\":true,\\\"enable_dnn\\\":false,\\\"scenario\\\":\\\"SDK-1.13.0\\\",\\\"environment_label\\\":null,\\\"save_mlflow\\\":false,\\\"force_text_dnn\\\":false,\\\"enable_feature_sweeping\\\":true,\\\"enable_early_stopping\\\":false,\\\"early_stopping_n_iters\\\":10,\\\"metrics\\\":null,\\\"enable_metric_confidence\\\":false,\\\"enable_ensembling\\\":true,\\\"enable_stack_ensembling\\\":true,\\\"ensemble_iterations\\\":4,\\\"enable_tf\\\":false,\\\"enable_subsampling\\\":false,\\\"subsample_seed\\\":null,\\\"enable_nimbusml\\\":false,\\\"enable_streaming\\\":false,\\\"force_streaming\\\":false,\\\"track_child_runs\\\":true,\\\"allowed_private_models\\\":[],\\\"label_column_name\\\":\\\"Diabetic\\\",\\\"weight_column_name\\\":null,\\\"cv_split_column_names\\\":null,\\\"enable_local_managed\\\":false,\\\"_local_managed_run_id\\\":null,\\\"cost_mode\\\":1,\\\"lag_length\\\":0,\\\"metric_operation\\\":\\\"maximize\\\",\\\"preprocess\\\":true}\", \"DataPrepJsonString\": \"{\\\\\\\"training_data\\\\\\\": {\\\\\\\"datasetId\\\\\\\": \\\\\\\"1fd20990-374a-450b-bea9-dcf3eea2725d\\\\\\\"}, \\\\\\\"validation_data\\\\\\\": {\\\\\\\"datasetId\\\\\\\": \\\\\\\"5ed30ff4-b90f-4d44-8aec-2f70568315c1\\\\\\\"}, \\\\\\\"datasets\\\\\\\": 0}\", \"EnableSubsampling\": \"False\", \"runTemplate\": \"AutoML\", \"azureml.runsource\": \"automl\", \"display_task_type\": \"classification\", \"dependencies_versions\": \"{\\\"azureml-widgets\\\": \\\"1.27.0\\\", \\\"azureml-train\\\": \\\"1.27.0\\\", \\\"azureml-train-restclients-hyperdrive\\\": \\\"1.27.0\\\", \\\"azureml-train-core\\\": \\\"1.27.0\\\", \\\"azureml-train-automl\\\": \\\"1.27.0\\\", \\\"azureml-train-automl-runtime\\\": \\\"1.27.0\\\", \\\"azureml-train-automl-client\\\": \\\"1.27.0\\\", \\\"azureml-tensorboard\\\": \\\"1.27.0\\\", \\\"azureml-telemetry\\\": \\\"1.27.0\\\", \\\"azureml-sdk\\\": \\\"1.27.0\\\", \\\"azureml-samples\\\": \\\"0+unknown\\\", \\\"azureml-pipeline\\\": \\\"1.27.0\\\", \\\"azureml-pipeline-steps\\\": \\\"1.27.0\\\", \\\"azureml-pipeline-core\\\": \\\"1.27.0\\\", \\\"azureml-opendatasets\\\": \\\"1.27.0\\\", \\\"azureml-model-management-sdk\\\": \\\"1.0.1b6.post1\\\", \\\"azureml-mlflow\\\": \\\"1.27.0\\\", \\\"azureml-interpret\\\": \\\"1.27.0\\\", \\\"azureml-explain-model\\\": \\\"1.27.0\\\", \\\"azureml-defaults\\\": \\\"1.27.0\\\", \\\"azureml-dataset-runtime\\\": \\\"1.27.0\\\", \\\"azureml-dataprep\\\": \\\"2.14.2\\\", \\\"azureml-dataprep-rslex\\\": \\\"1.12.1\\\", \\\"azureml-dataprep-native\\\": \\\"33.0.0\\\", \\\"azureml-datadrift\\\": \\\"1.27.0\\\", \\\"azureml-core\\\": \\\"1.27.0\\\", \\\"azureml-contrib-services\\\": \\\"1.27.0\\\", \\\"azureml-contrib-server\\\": \\\"1.27.0\\\", \\\"azureml-contrib-reinforcementlearning\\\": \\\"1.27.0\\\", \\\"azureml-contrib-pipeline-steps\\\": \\\"1.27.0\\\", \\\"azureml-contrib-notebook\\\": \\\"1.27.0\\\", \\\"azureml-contrib-gbdt\\\": \\\"1.27.0\\\", \\\"azureml-contrib-fairness\\\": \\\"1.27.0\\\", \\\"azureml-contrib-dataset\\\": \\\"1.27.0\\\", \\\"azureml-cli-common\\\": \\\"1.27.0\\\", \\\"azureml-automl-runtime\\\": \\\"1.27.0\\\", \\\"azureml-automl-dnn-nlp\\\": \\\"1.27.0\\\", \\\"azureml-automl-core\\\": \\\"1.27.0\\\", \\\"azureml-accel-models\\\": \\\"1.27.0\\\"}\", \"_aml_system_scenario_identification\": \"Remote.Parent\", \"ClientType\": \"SDK\", \"environment_cpu_name\": \"AzureML-AutoML\", \"environment_cpu_label\": \"prod\", \"environment_gpu_name\": \"AzureML-AutoML-GPU\", \"environment_gpu_label\": \"prod\", \"root_attribution\": \"automl\", \"attribution\": \"AutoML\", \"Orchestrator\": \"AutoML\", \"CancelUri\": \"https://uksouth.api.azureml.ms/jasmine/v1.0/subscriptions/df741348-6c47-45d1-9bfc-1b8dbf6a4efa/resourceGroups/dp-100-study-jc/providers/Microsoft.MachineLearningServices/workspaces/dp-100-study-jc/experimentids/f9cb8f6f-5876-44a8-bde5-9ccddf5be153/cancel/AutoML_af2d1129-c8dd-4000-be1a-3e4f42d8e882\", \"azureml.git.repository_uri\": \"https://github.com/MicrosoftLearning/mslearn-dp100\", \"mlflow.source.git.repoURL\": \"https://github.com/MicrosoftLearning/mslearn-dp100\", \"azureml.git.branch\": \"main\", \"mlflow.source.git.branch\": \"main\", \"azureml.git.commit\": \"0aad5e9349d1e92b47bd0a940e5f8ca924342b2d\", \"mlflow.source.git.commit\": \"0aad5e9349d1e92b47bd0a940e5f8ca924342b2d\", \"azureml.git.dirty\": \"True\", \"ClientSdkVersion\": \"1.27.0.post1\", \"snapshotId\": \"00000000-0000-0000-0000-000000000000\", \"SetupRunId\": \"AutoML_af2d1129-c8dd-4000-be1a-3e4f42d8e882_setup\", \"SetupRunContainerId\": \"dcid.AutoML_af2d1129-c8dd-4000-be1a-3e4f42d8e882_setup\", \"FeaturizationRunJsonPath\": \"featurizer_container.json\", \"FeaturizationRunId\": \"AutoML_af2d1129-c8dd-4000-be1a-3e4f42d8e882_featurize\", \"ProblemInfoJsonString\": \"{\\\"dataset_num_categorical\\\": 0, \\\"is_sparse\\\": true, \\\"subsampling\\\": false, \\\"dataset_classes\\\": 2, \\\"dataset_features\\\": 23, \\\"dataset_samples\\\": 10555, \\\"single_frequency_class_detected\\\": false}\", \"ModelExplainRunId\": \"AutoML_af2d1129-c8dd-4000-be1a-3e4f42d8e882_ModelExplain\"}, \"tags\": {\"model_explain_run\": \"best_run\", \"_aml_system_azureml.automlComponent\": \"AutoML\", \"pipeline_id\": \"\", \"score\": \"\", \"predicted_cost\": \"\", \"fit_time\": \"\", \"training_percent\": \"\", \"iteration\": \"\", \"run_preprocessor\": \"\", \"run_algorithm\": \"\", \"automl_best_child_run_id\": \"AutoML_af2d1129-c8dd-4000-be1a-3e4f42d8e882_0\", \"model_explain_best_run_child_id\": \"AutoML_af2d1129-c8dd-4000-be1a-3e4f42d8e882_0\"}, \"end_time_utc\": \"2021-05-10T09:55:06.244557Z\", \"status\": \"Completed\", \"log_files\": {}, \"log_groups\": [], \"run_duration\": \"0:08:39\", \"run_number\": \"1\", \"run_queued_details\": {\"status\": \"Completed\", \"details\": null}}, \"child_runs\": [{\"run_id\": \"AutoML_af2d1129-c8dd-4000-be1a-3e4f42d8e882_0\", \"run_number\": 5, \"metric\": null, \"status\": \"Completed\", \"run_type\": \"azureml.scriptrun\", \"training_percent\": \"100\", \"start_time\": \"2021-05-10T09:53:14.283257Z\", \"end_time\": \"2021-05-10T09:53:57.138121Z\", \"created_time\": \"2021-05-10T09:53:01.87563Z\", \"created_time_dt\": \"2021-05-10T09:53:01.87563Z\", \"duration\": \"0:00:55\", \"iteration\": \"0\", \"goal\": \"AUC_weighted_max\", \"run_name\": \"MaxAbsScaler, LightGBM\", \"run_properties\": \"copy=True\", \"primary_metric\": 0.99048126, \"best_metric\": 0.99048126}, {\"run_id\": \"AutoML_af2d1129-c8dd-4000-be1a-3e4f42d8e882_1\", \"run_number\": 6, \"metric\": null, \"status\": \"Completed\", \"run_type\": \"azureml.scriptrun\", \"training_percent\": \"100\", \"start_time\": \"2021-05-10T09:53:12.053215Z\", \"end_time\": \"2021-05-10T09:53:59.972458Z\", \"created_time\": \"2021-05-10T09:53:01.907667Z\", \"created_time_dt\": \"2021-05-10T09:53:01.907667Z\", \"duration\": \"0:00:58\", \"iteration\": \"1\", \"goal\": \"AUC_weighted_max\", \"run_name\": \"MaxAbsScaler, XGBoostClassifier\", \"run_properties\": \"copy=True\", \"primary_metric\": 0.98822706, \"best_metric\": 0.99048126}, {\"run_id\": \"AutoML_af2d1129-c8dd-4000-be1a-3e4f42d8e882_2\", \"run_number\": 7, \"metric\": null, \"status\": \"Completed\", \"run_type\": \"azureml.scriptrun\", \"training_percent\": \"100\", \"start_time\": \"2021-05-10T09:54:12.941072Z\", \"end_time\": \"2021-05-10T09:55:01.644511Z\", \"created_time\": \"2021-05-10T09:54:00.718541Z\", \"created_time_dt\": \"2021-05-10T09:54:00.718541Z\", \"duration\": \"0:01:00\", \"iteration\": \"2\", \"goal\": \"AUC_weighted_max\", \"run_name\": \"VotingEnsemble\", \"run_properties\": \"classification_labels=None,\\n                              estimators=[('0',\\n                                           Pipeline(memory=None,\\n                                                    steps=[('maxabsscaler',\\n                                                            MaxAbsScaler(copy=True\", \"primary_metric\": 0.99029273, \"best_metric\": 0.99048126}, {\"run_id\": \"AutoML_af2d1129-c8dd-4000-be1a-3e4f42d8e882_3\", \"run_number\": 8, \"metric\": null, \"status\": \"Completed\", \"run_type\": \"azureml.scriptrun\", \"training_percent\": \"100\", \"start_time\": \"2021-05-10T09:54:14.81463Z\", \"end_time\": \"2021-05-10T09:55:04.289739Z\", \"created_time\": \"2021-05-10T09:54:00.727557Z\", \"created_time_dt\": \"2021-05-10T09:54:00.727557Z\", \"duration\": \"0:01:03\", \"iteration\": \"3\", \"goal\": \"AUC_weighted_max\", \"run_name\": \"StackEnsemble\", \"run_properties\": \"base_learners=[('0',\\n                                        Pipeline(memory=None,\\n                                                 steps=[('maxabsscaler',\\n                                                         MaxAbsScaler(copy=True\", \"primary_metric\": 0.98998248, \"best_metric\": 0.99048126}], \"children_metrics\": {\"categories\": [0], \"series\": {\"norm_macro_recall\": [{\"categories\": [\"0\", \"1\", \"2\", \"3\"], \"mode\": \"markers\", \"name\": \"norm_macro_recall\", \"stepped\": false, \"type\": \"scatter\", \"data\": [0.8902205614498688, 0.8706236604437856, 0.8905577158665916, 0.8770222996074055]}, {\"categories\": [\"0\", \"1\", \"2\", \"3\"], \"mode\": \"lines\", \"name\": \"norm_macro_recall_max\", \"stepped\": true, \"type\": \"scatter\", \"data\": [0.8902205614498688, 0.8902205614498688, 0.8905577158665916, 0.8905577158665916]}], \"matthews_correlation\": [{\"categories\": [\"0\", \"1\", \"2\", \"3\"], \"mode\": \"markers\", \"name\": \"matthews_correlation\", \"stepped\": false, \"type\": \"scatter\", \"data\": [0.8918972733002116, 0.8739368529349385, 0.8923892448229966, 0.8852969686867558]}, {\"categories\": [\"0\", \"1\", \"2\", \"3\"], \"mode\": \"lines\", \"name\": \"matthews_correlation_max\", \"stepped\": true, \"type\": \"scatter\", \"data\": [0.8918972733002116, 0.8918972733002116, 0.8923892448229966, 0.8923892448229966]}], \"log_loss\": [{\"categories\": [\"0\", \"1\", \"2\", \"3\"], \"mode\": \"markers\", \"name\": \"log_loss\", \"stepped\": false, \"type\": \"scatter\", \"data\": [0.1186120500342212, 0.14557718392083688, 0.12239111110394191, 0.1682409762108119]}, {\"categories\": [\"0\", \"1\", \"2\", \"3\"], \"mode\": \"lines\", \"name\": \"log_loss_min\", \"stepped\": true, \"type\": \"scatter\", \"data\": [0.1186120500342212, 0.1186120500342212, 0.1186120500342212, 0.1186120500342212]}], \"average_precision_score_macro\": [{\"categories\": [\"0\", \"1\", \"2\", \"3\"], \"mode\": \"markers\", \"name\": \"average_precision_score_macro\", \"stepped\": false, \"type\": \"scatter\", \"data\": [0.9888863976623419, 0.9863803228939675, 0.9887602234083721, 0.9884374545575334]}, {\"categories\": [\"0\", \"1\", \"2\", \"3\"], \"mode\": \"lines\", \"name\": \"average_precision_score_macro_max\", \"stepped\": true, \"type\": \"scatter\", \"data\": [0.9888863976623419, 0.9888863976623419, 0.9888863976623419, 0.9888863976623419]}], \"recall_score_micro\": [{\"categories\": [\"0\", \"1\", \"2\", \"3\"], \"mode\": \"markers\", \"name\": \"recall_score_micro\", \"stepped\": false, \"type\": \"scatter\", \"data\": [0.9520809898762654, 0.944206974128234, 0.9523059617547807, 0.9493813273340832]}, {\"categories\": [\"0\", \"1\", \"2\", \"3\"], \"mode\": \"lines\", \"name\": \"recall_score_micro_max\", \"stepped\": true, \"type\": \"scatter\", \"data\": [0.9520809898762654, 0.9520809898762654, 0.9523059617547807, 0.9523059617547807]}], \"precision_score_micro\": [{\"categories\": [\"0\", \"1\", \"2\", \"3\"], \"mode\": \"markers\", \"name\": \"precision_score_micro\", \"stepped\": false, \"type\": \"scatter\", \"data\": [0.9520809898762654, 0.944206974128234, 0.9523059617547807, 0.9493813273340832]}, {\"categories\": [\"0\", \"1\", \"2\", \"3\"], \"mode\": \"lines\", \"name\": \"precision_score_micro_max\", \"stepped\": true, \"type\": \"scatter\", \"data\": [0.9520809898762654, 0.9520809898762654, 0.9523059617547807, 0.9523059617547807]}], \"AUC_weighted\": [{\"categories\": [\"0\", \"1\", \"2\", \"3\"], \"mode\": \"markers\", \"name\": \"AUC_weighted\", \"stepped\": false, \"type\": \"scatter\", \"data\": [0.9904812577250306, 0.9882270647231618, 0.9902927339233877, 0.9899824789124615]}, {\"categories\": [\"0\", \"1\", \"2\", \"3\"], \"mode\": \"lines\", \"name\": \"AUC_weighted_max\", \"stepped\": true, \"type\": \"scatter\", \"data\": [0.9904812577250306, 0.9904812577250306, 0.9904812577250306, 0.9904812577250306]}], \"weighted_accuracy\": [{\"categories\": [\"0\", \"1\", \"2\", \"3\"], \"mode\": \"markers\", \"name\": \"weighted_accuracy\", \"stepped\": false, \"type\": \"scatter\", \"data\": [0.9576485145517856, 0.951311550164289, 0.9579185290093026, 0.9580633681872899]}, {\"categories\": [\"0\", \"1\", \"2\", \"3\"], \"mode\": \"lines\", \"name\": \"weighted_accuracy_max\", \"stepped\": true, \"type\": \"scatter\", \"data\": [0.9576485145517856, 0.9576485145517856, 0.9579185290093026, 0.9580633681872899]}], \"precision_score_macro\": [{\"categories\": [\"0\", \"1\", \"2\", \"3\"], \"mode\": \"markers\", \"name\": \"precision_score_macro\", \"stepped\": false, \"type\": \"scatter\", \"data\": [0.9467885716011675, 0.9386313269550405, 0.9471122702591099, 0.9468248544631082]}, {\"categories\": [\"0\", \"1\", \"2\", \"3\"], \"mode\": \"lines\", \"name\": \"precision_score_macro_max\", \"stepped\": true, \"type\": \"scatter\", \"data\": [0.9467885716011675, 0.9467885716011675, 0.9471122702591099, 0.9471122702591099]}], \"AUC_micro\": [{\"categories\": [\"0\", \"1\", \"2\", \"3\"], \"mode\": \"markers\", \"name\": \"AUC_micro\", \"stepped\": false, \"type\": \"scatter\", \"data\": [0.9916008305485999, 0.9896202682201284, 0.991432139598973, 0.9890854981709962]}, {\"categories\": [\"0\", \"1\", \"2\", \"3\"], \"mode\": \"lines\", \"name\": \"AUC_micro_max\", \"stepped\": true, \"type\": \"scatter\", \"data\": [0.9916008305485999, 0.9916008305485999, 0.9916008305485999, 0.9916008305485999]}], \"balanced_accuracy\": [{\"categories\": [\"0\", \"1\", \"2\", \"3\"], \"mode\": \"markers\", \"name\": \"balanced_accuracy\", \"stepped\": false, \"type\": \"scatter\", \"data\": [0.9451102807249344, 0.9353118302218928, 0.9452788579332958, 0.9385111498037028]}, {\"categories\": [\"0\", \"1\", \"2\", \"3\"], \"mode\": \"lines\", \"name\": \"balanced_accuracy_max\", \"stepped\": true, \"type\": \"scatter\", \"data\": [0.9451102807249344, 0.9451102807249344, 0.9452788579332958, 0.9452788579332958]}], \"average_precision_score_weighted\": [{\"categories\": [\"0\", \"1\", \"2\", \"3\"], \"mode\": \"markers\", \"name\": \"average_precision_score_weighted\", \"stepped\": false, \"type\": \"scatter\", \"data\": [0.9910085472336622, 0.9889316609728803, 0.9908730553007605, 0.9905962889834079]}, {\"categories\": [\"0\", \"1\", \"2\", \"3\"], \"mode\": \"lines\", \"name\": \"average_precision_score_weighted_max\", \"stepped\": true, \"type\": \"scatter\", \"data\": [0.9910085472336622, 0.9910085472336622, 0.9910085472336622, 0.9910085472336622]}], \"f1_score_macro\": [{\"categories\": [\"0\", \"1\", \"2\", \"3\"], \"mode\": \"markers\", \"name\": \"f1_score_macro\", \"stepped\": false, \"type\": \"scatter\", \"data\": [0.9459413118209691, 0.9369393323381163, 0.9461858998080295, 0.9424766736117403]}, {\"categories\": [\"0\", \"1\", \"2\", \"3\"], \"mode\": \"lines\", \"name\": \"f1_score_macro_max\", \"stepped\": true, \"type\": \"scatter\", \"data\": [0.9459413118209691, 0.9459413118209691, 0.9461858998080295, 0.9461858998080295]}], \"average_precision_score_micro\": [{\"categories\": [\"0\", \"1\", \"2\", \"3\"], \"mode\": \"markers\", \"name\": \"average_precision_score_micro\", \"stepped\": false, \"type\": \"scatter\", \"data\": [0.9918359683181054, 0.9898548572689291, 0.9916360004915719, 0.9891864588838644]}, {\"categories\": [\"0\", \"1\", \"2\", \"3\"], \"mode\": \"lines\", \"name\": \"average_precision_score_micro_max\", \"stepped\": true, \"type\": \"scatter\", \"data\": [0.9918359683181054, 0.9918359683181054, 0.9918359683181054, 0.9918359683181054]}], \"recall_score_weighted\": [{\"categories\": [\"0\", \"1\", \"2\", \"3\"], \"mode\": \"markers\", \"name\": \"recall_score_weighted\", \"stepped\": false, \"type\": \"scatter\", \"data\": [0.9520809898762654, 0.944206974128234, 0.9523059617547807, 0.9493813273340832]}, {\"categories\": [\"0\", \"1\", \"2\", \"3\"], \"mode\": \"lines\", \"name\": \"recall_score_weighted_max\", \"stepped\": true, \"type\": \"scatter\", \"data\": [0.9520809898762654, 0.9520809898762654, 0.9523059617547807, 0.9523059617547807]}], \"accuracy\": [{\"categories\": [\"0\", \"1\", \"2\", \"3\"], \"mode\": \"markers\", \"name\": \"accuracy\", \"stepped\": false, \"type\": \"scatter\", \"data\": [0.9520809898762654, 0.944206974128234, 0.9523059617547807, 0.9493813273340832]}, {\"categories\": [\"0\", \"1\", \"2\", \"3\"], \"mode\": \"lines\", \"name\": \"accuracy_max\", \"stepped\": true, \"type\": \"scatter\", \"data\": [0.9520809898762654, 0.9520809898762654, 0.9523059617547807, 0.9523059617547807]}], \"recall_score_macro\": [{\"categories\": [\"0\", \"1\", \"2\", \"3\"], \"mode\": \"markers\", \"name\": \"recall_score_macro\", \"stepped\": false, \"type\": \"scatter\", \"data\": [0.9451102807249344, 0.9353118302218928, 0.9452788579332958, 0.9385111498037028]}, {\"categories\": [\"0\", \"1\", \"2\", \"3\"], \"mode\": \"lines\", \"name\": \"recall_score_macro_max\", \"stepped\": true, \"type\": \"scatter\", \"data\": [0.9451102807249344, 0.9451102807249344, 0.9452788579332958, 0.9452788579332958]}], \"f1_score_micro\": [{\"categories\": [\"0\", \"1\", \"2\", \"3\"], \"mode\": \"markers\", \"name\": \"f1_score_micro\", \"stepped\": false, \"type\": \"scatter\", \"data\": [0.9520809898762654, 0.944206974128234, 0.9523059617547807, 0.9493813273340832]}, {\"categories\": [\"0\", \"1\", \"2\", \"3\"], \"mode\": \"lines\", \"name\": \"f1_score_micro_max\", \"stepped\": true, \"type\": \"scatter\", \"data\": [0.9520809898762654, 0.9520809898762654, 0.9523059617547807, 0.9523059617547807]}], \"f1_score_weighted\": [{\"categories\": [\"0\", \"1\", \"2\", \"3\"], \"mode\": \"markers\", \"name\": \"f1_score_weighted\", \"stepped\": false, \"type\": \"scatter\", \"data\": [0.952035905457969, 0.9441010177866949, 0.9522569685971016, 0.9491436996410416]}, {\"categories\": [\"0\", \"1\", \"2\", \"3\"], \"mode\": \"lines\", \"name\": \"f1_score_weighted_max\", \"stepped\": true, \"type\": \"scatter\", \"data\": [0.952035905457969, 0.952035905457969, 0.9522569685971016, 0.9522569685971016]}], \"precision_score_weighted\": [{\"categories\": [\"0\", \"1\", \"2\", \"3\"], \"mode\": \"markers\", \"name\": \"precision_score_weighted\", \"stepped\": false, \"type\": \"scatter\", \"data\": [0.9520038306966419, 0.9440467334517999, 0.9522234676476355, 0.9492112167726751]}, {\"categories\": [\"0\", \"1\", \"2\", \"3\"], \"mode\": \"lines\", \"name\": \"precision_score_weighted_max\", \"stepped\": true, \"type\": \"scatter\", \"data\": [0.9520038306966419, 0.9520038306966419, 0.9522234676476355, 0.9522234676476355]}], \"AUC_macro\": [{\"categories\": [\"0\", \"1\", \"2\", \"3\"], \"mode\": \"markers\", \"name\": \"AUC_macro\", \"stepped\": false, \"type\": \"scatter\", \"data\": [0.9904812577250306, 0.9882270647231617, 0.9902927339233878, 0.9899824789124616]}, {\"categories\": [\"0\", \"1\", \"2\", \"3\"], \"mode\": \"lines\", \"name\": \"AUC_macro_max\", \"stepped\": true, \"type\": \"scatter\", \"data\": [0.9904812577250306, 0.9904812577250306, 0.9904812577250306, 0.9904812577250306]}]}, \"metricName\": null, \"primaryMetricName\": \"AUC_weighted\", \"showLegend\": false}, \"run_metrics\": [{\"name\": \"experiment_status\", \"run_id\": \"AutoML_af2d1129-c8dd-4000-be1a-3e4f42d8e882\", \"categories\": [0, 1, 2, 3, 4, 5, 6, 7, 8, 9, 10, 11, 12], \"series\": [{\"data\": [\"DatasetEvaluation\", \"FeaturesGeneration\", \"DatasetFeaturization\", \"DatasetFeaturizationCompleted\", \"ModelSelection\", \"BestRunExplainModel\", \"ModelExplanationDataSetSetup\", \"PickSurrogateModel\", \"EngineeredFeatureExplanations\", \"EngineeredFeatureExplanations\", \"RawFeaturesExplanations\", \"RawFeaturesExplanations\", \"BestRunExplainModel\"]}]}, {\"name\": \"experiment_status_description\", \"run_id\": \"AutoML_af2d1129-c8dd-4000-be1a-3e4f42d8e882\", \"categories\": [0, 1, 2, 3, 4, 5, 6, 7, 8, 9, 10, 11, 12], \"series\": [{\"data\": [\"Gathering dataset statistics.\", \"Generating features for the dataset.\", \"Beginning to fit featurizers and featurize the dataset.\", \"Completed fit featurizers and featurizing the dataset.\", \"Beginning model selection.\", \"Best run model explanations started\", \"Model explanations data setup completed\", \"Choosing LightGBM as the surrogate model for explanations\", \"Computation of engineered features started\", \"Computation of engineered features completed\", \"Computation of raw features started\", \"Computation of raw features completed\", \"Best run model explanations completed\"]}]}, {\"name\": \"log_loss\", \"run_id\": \"AutoML_af2d1129-c8dd-4000-be1a-3e4f42d8e882\", \"categories\": [0], \"series\": [{\"data\": [0.1186120500342212]}]}, {\"name\": \"average_precision_score_weighted\", \"run_id\": \"AutoML_af2d1129-c8dd-4000-be1a-3e4f42d8e882\", \"categories\": [0], \"series\": [{\"data\": [0.9910085472336622]}]}, {\"name\": \"recall_score_micro\", \"run_id\": \"AutoML_af2d1129-c8dd-4000-be1a-3e4f42d8e882\", \"categories\": [0], \"series\": [{\"data\": [0.9520809898762654]}]}, {\"name\": \"AUC_weighted\", \"run_id\": \"AutoML_af2d1129-c8dd-4000-be1a-3e4f42d8e882\", \"categories\": [0], \"series\": [{\"data\": [0.9904812577250306]}]}, {\"name\": \"f1_score_micro\", \"run_id\": \"AutoML_af2d1129-c8dd-4000-be1a-3e4f42d8e882\", \"categories\": [0], \"series\": [{\"data\": [0.9520809898762654]}]}, {\"name\": \"precision_score_weighted\", \"run_id\": \"AutoML_af2d1129-c8dd-4000-be1a-3e4f42d8e882\", \"categories\": [0], \"series\": [{\"data\": [0.9520038306966419]}]}, {\"name\": \"recall_score_weighted\", \"run_id\": \"AutoML_af2d1129-c8dd-4000-be1a-3e4f42d8e882\", \"categories\": [0], \"series\": [{\"data\": [0.9520809898762654]}]}, {\"name\": \"accuracy\", \"run_id\": \"AutoML_af2d1129-c8dd-4000-be1a-3e4f42d8e882\", \"categories\": [0], \"series\": [{\"data\": [0.9520809898762654]}]}, {\"name\": \"recall_score_macro\", \"run_id\": \"AutoML_af2d1129-c8dd-4000-be1a-3e4f42d8e882\", \"categories\": [0], \"series\": [{\"data\": [0.9451102807249344]}]}, {\"name\": \"precision_score_micro\", \"run_id\": \"AutoML_af2d1129-c8dd-4000-be1a-3e4f42d8e882\", \"categories\": [0], \"series\": [{\"data\": [0.9520809898762654]}]}, {\"name\": \"f1_score_weighted\", \"run_id\": \"AutoML_af2d1129-c8dd-4000-be1a-3e4f42d8e882\", \"categories\": [0], \"series\": [{\"data\": [0.952035905457969]}]}, {\"name\": \"balanced_accuracy\", \"run_id\": \"AutoML_af2d1129-c8dd-4000-be1a-3e4f42d8e882\", \"categories\": [0], \"series\": [{\"data\": [0.9451102807249344]}]}, {\"name\": \"f1_score_macro\", \"run_id\": \"AutoML_af2d1129-c8dd-4000-be1a-3e4f42d8e882\", \"categories\": [0], \"series\": [{\"data\": [0.9459413118209691]}]}, {\"name\": \"average_precision_score_micro\", \"run_id\": \"AutoML_af2d1129-c8dd-4000-be1a-3e4f42d8e882\", \"categories\": [0], \"series\": [{\"data\": [0.9918359683181054]}]}, {\"name\": \"average_precision_score_macro\", \"run_id\": \"AutoML_af2d1129-c8dd-4000-be1a-3e4f42d8e882\", \"categories\": [0], \"series\": [{\"data\": [0.9888863976623419]}]}, {\"name\": \"AUC_macro\", \"run_id\": \"AutoML_af2d1129-c8dd-4000-be1a-3e4f42d8e882\", \"categories\": [0], \"series\": [{\"data\": [0.9904812577250306]}]}, {\"name\": \"weighted_accuracy\", \"run_id\": \"AutoML_af2d1129-c8dd-4000-be1a-3e4f42d8e882\", \"categories\": [0], \"series\": [{\"data\": [0.9576485145517856]}]}, {\"name\": \"AUC_micro\", \"run_id\": \"AutoML_af2d1129-c8dd-4000-be1a-3e4f42d8e882\", \"categories\": [0], \"series\": [{\"data\": [0.9916008305485999]}]}, {\"name\": \"precision_score_macro\", \"run_id\": \"AutoML_af2d1129-c8dd-4000-be1a-3e4f42d8e882\", \"categories\": [0], \"series\": [{\"data\": [0.9467885716011675]}]}, {\"name\": \"matthews_correlation\", \"run_id\": \"AutoML_af2d1129-c8dd-4000-be1a-3e4f42d8e882\", \"categories\": [0], \"series\": [{\"data\": [0.8918972733002116]}]}, {\"name\": \"norm_macro_recall\", \"run_id\": \"AutoML_af2d1129-c8dd-4000-be1a-3e4f42d8e882\", \"categories\": [0], \"series\": [{\"data\": [0.8902205614498688]}]}], \"run_logs\": \"\\nRun is completed.\", \"graph\": {}, \"widget_settings\": {\"childWidgetDisplay\": \"popup\", \"send_telemetry\": false, \"log_level\": \"INFO\", \"sdk_version\": \"1.27.0\"}, \"loading\": false}"
          },
          "metadata": {}
        },
        {
          "output_type": "display_data",
          "data": {
            "text/plain": "<IPython.core.display.HTML object>",
            "text/html": "<table style=\"width:100%\"><tr><th>Experiment</th><th>Id</th><th>Type</th><th>Status</th><th>Details Page</th><th>Docs Page</th></tr><tr><td>mslearn-diabetes-automl-sdk</td><td>AutoML_af2d1129-c8dd-4000-be1a-3e4f42d8e882</td><td>automl</td><td>NotStarted</td><td><a href=\"https://ml.azure.com/runs/AutoML_af2d1129-c8dd-4000-be1a-3e4f42d8e882?wsid=/subscriptions/df741348-6c47-45d1-9bfc-1b8dbf6a4efa/resourcegroups/dp-100-study-jc/workspaces/dp-100-study-jc&amp;tid=d51de596-45a0-4aa5-a0d8-47d1c958aa32\" target=\"_blank\" rel=\"noopener\">Link to Azure Machine Learning studio</a></td><td><a href=\"https://docs.microsoft.com/en-us/python/api/overview/azure/ml/intro?view=azure-ml-py\" target=\"_blank\" rel=\"noopener\">Link to Documentation</a></td></tr></table>"
          },
          "metadata": {}
        },
        {
          "output_type": "stream",
          "name": "stdout",
          "text": [
            "\n",
            "Current status: FeaturesGeneration. Generating features for the dataset.\n",
            "Current status: ModelSelection. Beginning model selection.\n",
            "\n",
            "****************************************************************************************************\n",
            "DATA GUARDRAILS: \n",
            "\n",
            "TYPE:         Class balancing detection\n",
            "STATUS:       PASSED\n",
            "DESCRIPTION:  Your inputs were analyzed, and all classes are balanced in your training data.\n",
            "              Learn more about imbalanced data: https://aka.ms/AutomatedMLImbalancedData\n",
            "\n",
            "****************************************************************************************************\n",
            "\n",
            "TYPE:         Missing feature values imputation\n",
            "STATUS:       PASSED\n",
            "DESCRIPTION:  No feature missing values were detected in the training data.\n",
            "              Learn more about missing value imputation: https://aka.ms/AutomatedMLFeaturization\n",
            "\n",
            "****************************************************************************************************\n",
            "\n",
            "TYPE:         High cardinality feature detection\n",
            "STATUS:       PASSED\n",
            "DESCRIPTION:  Your inputs were analyzed, and no high cardinality features were detected.\n",
            "              Learn more about high cardinality feature handling: https://aka.ms/AutomatedMLFeaturization\n",
            "\n",
            "****************************************************************************************************\n",
            "\n",
            "****************************************************************************************************\n",
            "ITERATION: The iteration being evaluated.\n",
            "PIPELINE: A summary description of the pipeline being evaluated.\n",
            "DURATION: Time taken for the current iteration.\n",
            "METRIC: The result of computing score on the fitted pipeline.\n",
            "BEST: The best observed score thus far.\n",
            "****************************************************************************************************\n",
            "\n",
            " ITERATION   PIPELINE                                       DURATION      METRIC      BEST\n",
            "         0   MaxAbsScaler LightGBM                          0:00:43       0.9905    0.9905\n",
            "         1   MaxAbsScaler XGBoostClassifier                 0:00:48       0.9882    0.9905\n",
            "         2    VotingEnsemble                                0:00:49       0.9903    0.9905\n",
            "         3    StackEnsemble                                 0:00:49       0.9900    0.9905\n"
          ]
        },
        {
          "output_type": "execute_result",
          "execution_count": 11,
          "data": {
            "text/plain": "{'runId': 'AutoML_af2d1129-c8dd-4000-be1a-3e4f42d8e882',\n 'target': 'dp-100-study-jc',\n 'status': 'Completed',\n 'startTimeUtc': '2021-05-10T09:46:41.801766Z',\n 'endTimeUtc': '2021-05-10T09:55:06.244557Z',\n 'properties': {'num_iterations': '4',\n  'training_type': 'TrainFull',\n  'acquisition_function': 'EI',\n  'primary_metric': 'AUC_weighted',\n  'train_split': '0',\n  'acquisition_parameter': '0',\n  'num_cross_validation': None,\n  'target': 'dp-100-study-jc',\n  'AMLSettingsJsonString': '{\"path\":null,\"name\":\"Automated ML Experiment\",\"subscription_id\":\"df741348-6c47-45d1-9bfc-1b8dbf6a4efa\",\"resource_group\":\"dp-100-study-jc\",\"workspace_name\":\"dp-100-study-jc\",\"region\":\"uksouth\",\"compute_target\":\"dp-100-study-jc\",\"spark_service\":null,\"azure_service\":\"remote\",\"many_models\":false,\"pipeline_fetch_max_batch_size\":1,\"enable_batch_run\":false,\"enable_run_restructure\":false,\"start_auxiliary_runs_before_parent_complete\":false,\"iterations\":4,\"primary_metric\":\"AUC_weighted\",\"task_type\":\"classification\",\"data_script\":null,\"test_size\":0.0,\"validation_size\":0.0,\"n_cross_validations\":null,\"y_min\":null,\"y_max\":null,\"num_classes\":null,\"featurization\":\"auto\",\"_ignore_package_version_incompatibilities\":false,\"is_timeseries\":false,\"max_cores_per_iteration\":1,\"max_concurrent_iterations\":2,\"iteration_timeout_minutes\":null,\"mem_in_mb\":null,\"enforce_time_on_windows\":false,\"experiment_timeout_minutes\":8640,\"experiment_exit_score\":null,\"whitelist_models\":null,\"blacklist_algos\":[\"TensorFlowLinearClassifier\",\"TensorFlowDNN\"],\"supported_models\":[\"LogisticRegression\",\"TensorFlowLinearClassifier\",\"RandomForest\",\"AveragedPerceptronClassifier\",\"LinearSVM\",\"GradientBoosting\",\"XGBoostClassifier\",\"KNN\",\"DecisionTree\",\"ExtremeRandomTrees\",\"BernoulliNaiveBayes\",\"SGD\",\"LightGBM\",\"MultinomialNaiveBayes\",\"TensorFlowDNN\",\"SVM\"],\"private_models\":[],\"auto_blacklist\":true,\"blacklist_samples_reached\":false,\"exclude_nan_labels\":true,\"verbosity\":20,\"_debug_log\":\"azureml_automl.log\",\"show_warnings\":false,\"model_explainability\":true,\"service_url\":null,\"sdk_url\":null,\"sdk_packages\":null,\"enable_onnx_compatible_models\":false,\"enable_split_onnx_featurizer_estimator_models\":false,\"vm_type\":\"STANDARD_D11_V2\",\"telemetry_verbosity\":20,\"send_telemetry\":true,\"enable_dnn\":false,\"scenario\":\"SDK-1.13.0\",\"environment_label\":null,\"save_mlflow\":false,\"force_text_dnn\":false,\"enable_feature_sweeping\":true,\"enable_early_stopping\":false,\"early_stopping_n_iters\":10,\"metrics\":null,\"enable_metric_confidence\":false,\"enable_ensembling\":true,\"enable_stack_ensembling\":true,\"ensemble_iterations\":4,\"enable_tf\":false,\"enable_subsampling\":false,\"subsample_seed\":null,\"enable_nimbusml\":false,\"enable_streaming\":false,\"force_streaming\":false,\"track_child_runs\":true,\"allowed_private_models\":[],\"label_column_name\":\"Diabetic\",\"weight_column_name\":null,\"cv_split_column_names\":null,\"enable_local_managed\":false,\"_local_managed_run_id\":null,\"cost_mode\":1,\"lag_length\":0,\"metric_operation\":\"maximize\",\"preprocess\":true}',\n  'DataPrepJsonString': '{\\\\\"training_data\\\\\": {\\\\\"datasetId\\\\\": \\\\\"1fd20990-374a-450b-bea9-dcf3eea2725d\\\\\"}, \\\\\"validation_data\\\\\": {\\\\\"datasetId\\\\\": \\\\\"5ed30ff4-b90f-4d44-8aec-2f70568315c1\\\\\"}, \\\\\"datasets\\\\\": 0}',\n  'EnableSubsampling': 'False',\n  'runTemplate': 'AutoML',\n  'azureml.runsource': 'automl',\n  'display_task_type': 'classification',\n  'dependencies_versions': '{\"azureml-widgets\": \"1.27.0\", \"azureml-train\": \"1.27.0\", \"azureml-train-restclients-hyperdrive\": \"1.27.0\", \"azureml-train-core\": \"1.27.0\", \"azureml-train-automl\": \"1.27.0\", \"azureml-train-automl-runtime\": \"1.27.0\", \"azureml-train-automl-client\": \"1.27.0\", \"azureml-tensorboard\": \"1.27.0\", \"azureml-telemetry\": \"1.27.0\", \"azureml-sdk\": \"1.27.0\", \"azureml-samples\": \"0+unknown\", \"azureml-pipeline\": \"1.27.0\", \"azureml-pipeline-steps\": \"1.27.0\", \"azureml-pipeline-core\": \"1.27.0\", \"azureml-opendatasets\": \"1.27.0\", \"azureml-model-management-sdk\": \"1.0.1b6.post1\", \"azureml-mlflow\": \"1.27.0\", \"azureml-interpret\": \"1.27.0\", \"azureml-explain-model\": \"1.27.0\", \"azureml-defaults\": \"1.27.0\", \"azureml-dataset-runtime\": \"1.27.0\", \"azureml-dataprep\": \"2.14.2\", \"azureml-dataprep-rslex\": \"1.12.1\", \"azureml-dataprep-native\": \"33.0.0\", \"azureml-datadrift\": \"1.27.0\", \"azureml-core\": \"1.27.0\", \"azureml-contrib-services\": \"1.27.0\", \"azureml-contrib-server\": \"1.27.0\", \"azureml-contrib-reinforcementlearning\": \"1.27.0\", \"azureml-contrib-pipeline-steps\": \"1.27.0\", \"azureml-contrib-notebook\": \"1.27.0\", \"azureml-contrib-gbdt\": \"1.27.0\", \"azureml-contrib-fairness\": \"1.27.0\", \"azureml-contrib-dataset\": \"1.27.0\", \"azureml-cli-common\": \"1.27.0\", \"azureml-automl-runtime\": \"1.27.0\", \"azureml-automl-dnn-nlp\": \"1.27.0\", \"azureml-automl-core\": \"1.27.0\", \"azureml-accel-models\": \"1.27.0\"}',\n  '_aml_system_scenario_identification': 'Remote.Parent',\n  'ClientType': 'SDK',\n  'environment_cpu_name': 'AzureML-AutoML',\n  'environment_cpu_label': 'prod',\n  'environment_gpu_name': 'AzureML-AutoML-GPU',\n  'environment_gpu_label': 'prod',\n  'root_attribution': 'automl',\n  'attribution': 'AutoML',\n  'Orchestrator': 'AutoML',\n  'CancelUri': 'https://uksouth.api.azureml.ms/jasmine/v1.0/subscriptions/df741348-6c47-45d1-9bfc-1b8dbf6a4efa/resourceGroups/dp-100-study-jc/providers/Microsoft.MachineLearningServices/workspaces/dp-100-study-jc/experimentids/f9cb8f6f-5876-44a8-bde5-9ccddf5be153/cancel/AutoML_af2d1129-c8dd-4000-be1a-3e4f42d8e882',\n  'azureml.git.repository_uri': 'https://github.com/MicrosoftLearning/mslearn-dp100',\n  'mlflow.source.git.repoURL': 'https://github.com/MicrosoftLearning/mslearn-dp100',\n  'azureml.git.branch': 'main',\n  'mlflow.source.git.branch': 'main',\n  'azureml.git.commit': '0aad5e9349d1e92b47bd0a940e5f8ca924342b2d',\n  'mlflow.source.git.commit': '0aad5e9349d1e92b47bd0a940e5f8ca924342b2d',\n  'azureml.git.dirty': 'True',\n  'ClientSdkVersion': '1.27.0.post1',\n  'snapshotId': '00000000-0000-0000-0000-000000000000',\n  'SetupRunId': 'AutoML_af2d1129-c8dd-4000-be1a-3e4f42d8e882_setup',\n  'SetupRunContainerId': 'dcid.AutoML_af2d1129-c8dd-4000-be1a-3e4f42d8e882_setup',\n  'FeaturizationRunJsonPath': 'featurizer_container.json',\n  'FeaturizationRunId': 'AutoML_af2d1129-c8dd-4000-be1a-3e4f42d8e882_featurize',\n  'ProblemInfoJsonString': '{\"dataset_num_categorical\": 0, \"is_sparse\": true, \"subsampling\": false, \"dataset_classes\": 2, \"dataset_features\": 23, \"dataset_samples\": 10555, \"single_frequency_class_detected\": false}',\n  'ModelExplainRunId': 'AutoML_af2d1129-c8dd-4000-be1a-3e4f42d8e882_ModelExplain'},\n 'inputDatasets': [{'dataset': {'id': '1fd20990-374a-450b-bea9-dcf3eea2725d'}, 'consumptionDetails': {'type': 'RunInput', 'inputName': 'training_data', 'mechanism': 'Direct'}}, {'dataset': {'id': '5ed30ff4-b90f-4d44-8aec-2f70568315c1'}, 'consumptionDetails': {'type': 'RunInput', 'inputName': 'validation_data', 'mechanism': 'Direct'}}],\n 'outputDatasets': [],\n 'logFiles': {},\n 'submittedBy': 'Jose Costa'}"
          },
          "metadata": {}
        }
      ],
      "execution_count": 11,
      "metadata": {
        "scrolled": true,
        "gather": {
          "logged": 1620640519808
        }
      }
    },
    {
      "cell_type": "markdown",
      "source": [
        "## View child run details\n",
        "\n",
        "When the experiment has completed, view the output in the widget, and click the run that produced the best result to see its details.\n",
        "\n",
        "Then click the link to view the experiment details in Azure Machine Learning studio and view the overall experiment details before viewing the details for the individual run that produced the best result. There's lots of information here about the performance of the model generated.\n",
        "\n",
        "You can also retrieve all of the child runs and view their metrics using the SDK:"
      ],
      "metadata": {}
    },
    {
      "cell_type": "code",
      "source": [
        "for run in automl_run.get_children():\n",
        "    print('Run ID', run.id)\n",
        "    for metric in run.get_metrics():\n",
        "        print('\\t', run.get_metrics(metric))"
      ],
      "outputs": [
        {
          "output_type": "stream",
          "name": "stdout",
          "text": [
            "Run ID AutoML_af2d1129-c8dd-4000-be1a-3e4f42d8e882_3\n",
            "\t {'f1_score_micro': 0.9493813273340832}\n",
            "\t {'norm_macro_recall': 0.8770222996074055}\n",
            "\t {'AUC_macro': 0.9899824789124616}\n",
            "\t {'weighted_accuracy': 0.9580633681872899}\n",
            "\t {'AUC_weighted': 0.9899824789124615}\n",
            "\t {'recall_score_macro': 0.9385111498037028}\n",
            "\t {'recall_score_micro': 0.9493813273340832}\n",
            "\t {'average_precision_score_micro': 0.9891864588838644}\n",
            "\t {'matthews_correlation': 0.8852969686867558}\n",
            "\t {'precision_score_weighted': 0.9492112167726751}\n",
            "\t {'f1_score_weighted': 0.9491436996410416}\n",
            "\t {'balanced_accuracy': 0.9385111498037028}\n",
            "\t {'average_precision_score_macro': 0.9884374545575334}\n",
            "\t {'average_precision_score_weighted': 0.9905962889834079}\n",
            "\t {'f1_score_macro': 0.9424766736117403}\n",
            "\t {'log_loss': 0.1682409762108119}\n",
            "\t {'recall_score_weighted': 0.9493813273340832}\n",
            "\t {'precision_score_micro': 0.9493813273340832}\n",
            "\t {'AUC_micro': 0.9890854981709962}\n",
            "\t {'accuracy': 0.9493813273340832}\n",
            "\t {'precision_score_macro': 0.9468248544631082}\n",
            "\t {'confusion_matrix': 'aml://artifactId/ExperimentRun/dcid.AutoML_af2d1129-c8dd-4000-be1a-3e4f42d8e882_3/confusion_matrix'}\n",
            "\t {'accuracy_table': 'aml://artifactId/ExperimentRun/dcid.AutoML_af2d1129-c8dd-4000-be1a-3e4f42d8e882_3/accuracy_table'}\n",
            "Run ID AutoML_af2d1129-c8dd-4000-be1a-3e4f42d8e882_2\n",
            "\t {'norm_macro_recall': 0.8905577158665916}\n",
            "\t {'recall_score_weighted': 0.9523059617547807}\n",
            "\t {'matthews_correlation': 0.8923892448229966}\n",
            "\t {'precision_score_macro': 0.9471122702591099}\n",
            "\t {'f1_score_micro': 0.9523059617547807}\n",
            "\t {'recall_score_macro': 0.9452788579332958}\n",
            "\t {'AUC_weighted': 0.9902927339233877}\n",
            "\t {'weighted_accuracy': 0.9579185290093026}\n",
            "\t {'AUC_micro': 0.991432139598973}\n",
            "\t {'f1_score_macro': 0.9461858998080295}\n",
            "\t {'recall_score_micro': 0.9523059617547807}\n",
            "\t {'log_loss': 0.12239111110394191}\n",
            "\t {'average_precision_score_weighted': 0.9908730553007605}\n",
            "\t {'average_precision_score_macro': 0.9887602234083721}\n",
            "\t {'precision_score_micro': 0.9523059617547807}\n",
            "\t {'average_precision_score_micro': 0.9916360004915719}\n",
            "\t {'AUC_macro': 0.9902927339233878}\n",
            "\t {'precision_score_weighted': 0.9522234676476355}\n",
            "\t {'accuracy': 0.9523059617547807}\n",
            "\t {'f1_score_weighted': 0.9522569685971016}\n",
            "\t {'balanced_accuracy': 0.9452788579332958}\n",
            "\t {'accuracy_table': 'aml://artifactId/ExperimentRun/dcid.AutoML_af2d1129-c8dd-4000-be1a-3e4f42d8e882_2/accuracy_table'}\n",
            "\t {'confusion_matrix': 'aml://artifactId/ExperimentRun/dcid.AutoML_af2d1129-c8dd-4000-be1a-3e4f42d8e882_2/confusion_matrix'}\n",
            "Run ID AutoML_af2d1129-c8dd-4000-be1a-3e4f42d8e882_0\n",
            "\t {'norm_macro_recall': 0.8902205614498688}\n",
            "\t {'matthews_correlation': 0.8918972733002116}\n",
            "\t {'log_loss': 0.1186120500342212}\n",
            "\t {'average_precision_score_macro': 0.9888863976623419}\n",
            "\t {'recall_score_micro': 0.9520809898762654}\n",
            "\t {'precision_score_micro': 0.9520809898762654}\n",
            "\t {'AUC_weighted': 0.9904812577250306}\n",
            "\t {'weighted_accuracy': 0.9576485145517856}\n",
            "\t {'precision_score_macro': 0.9467885716011675}\n",
            "\t {'AUC_micro': 0.9916008305485999}\n",
            "\t {'balanced_accuracy': 0.9451102807249344}\n",
            "\t {'average_precision_score_weighted': 0.9910085472336622}\n",
            "\t {'f1_score_macro': 0.9459413118209691}\n",
            "\t {'average_precision_score_micro': 0.9918359683181054}\n",
            "\t {'recall_score_weighted': 0.9520809898762654}\n",
            "\t {'accuracy': 0.9520809898762654}\n",
            "\t {'recall_score_macro': 0.9451102807249344}\n",
            "\t {'f1_score_micro': 0.9520809898762654}\n",
            "\t {'f1_score_weighted': 0.952035905457969}\n",
            "\t {'precision_score_weighted': 0.9520038306966419}\n",
            "\t {'AUC_macro': 0.9904812577250306}\n",
            "\t {'accuracy_table': 'aml://artifactId/ExperimentRun/dcid.AutoML_af2d1129-c8dd-4000-be1a-3e4f42d8e882_0/accuracy_table'}\n",
            "\t {'confusion_matrix': 'aml://artifactId/ExperimentRun/dcid.AutoML_af2d1129-c8dd-4000-be1a-3e4f42d8e882_0/confusion_matrix'}\n",
            "Run ID AutoML_af2d1129-c8dd-4000-be1a-3e4f42d8e882_1\n",
            "\t {'f1_score_micro': 0.944206974128234}\n",
            "\t {'weighted_accuracy': 0.951311550164289}\n",
            "\t {'recall_score_micro': 0.944206974128234}\n",
            "\t {'AUC_macro': 0.9882270647231617}\n",
            "\t {'precision_score_weighted': 0.9440467334517999}\n",
            "\t {'recall_score_macro': 0.9353118302218928}\n",
            "\t {'precision_score_macro': 0.9386313269550405}\n",
            "\t {'average_precision_score_micro': 0.9898548572689291}\n",
            "\t {'accuracy': 0.944206974128234}\n",
            "\t {'f1_score_weighted': 0.9441010177866949}\n",
            "\t {'log_loss': 0.14557718392083688}\n",
            "\t {'average_precision_score_macro': 0.9863803228939675}\n",
            "\t {'matthews_correlation': 0.8739368529349385}\n",
            "\t {'balanced_accuracy': 0.9353118302218928}\n",
            "\t {'AUC_micro': 0.9896202682201284}\n",
            "\t {'recall_score_weighted': 0.944206974128234}\n",
            "\t {'f1_score_macro': 0.9369393323381163}\n",
            "\t {'norm_macro_recall': 0.8706236604437856}\n",
            "\t {'AUC_weighted': 0.9882270647231618}\n",
            "\t {'precision_score_micro': 0.944206974128234}\n",
            "\t {'average_precision_score_weighted': 0.9889316609728803}\n",
            "\t {'accuracy_table': 'aml://artifactId/ExperimentRun/dcid.AutoML_af2d1129-c8dd-4000-be1a-3e4f42d8e882_1/accuracy_table'}\n",
            "\t {'confusion_matrix': 'aml://artifactId/ExperimentRun/dcid.AutoML_af2d1129-c8dd-4000-be1a-3e4f42d8e882_1/confusion_matrix'}\n"
          ]
        }
      ],
      "execution_count": 12,
      "metadata": {
        "gather": {
          "logged": 1620640628464
        }
      }
    },
    {
      "cell_type": "code",
      "source": [
        "# Get best run and its model\r\n",
        "best_run, fitted_model = automl_run.get_output()\r\n",
        "best_run_metrics = best_run.get_metrics()\r\n",
        "print(\"Best run metrics:\")\r\n",
        "for metric_name in best_run_metrics:\r\n",
        "    metric = best_run_metrics[metric_name]\r\n",
        "    print(f\"- {metric_name}: {metric}\")\r\n",
        "\r\n",
        "# Get pre-processing steps used\r\n",
        "print(\"Best run steps:\")\r\n",
        "for step_ in fitted_model.named_steps:\r\n",
        "    print(f\"- {step_}\")"
      ],
      "outputs": [
        {
          "output_type": "stream",
          "name": "stdout",
          "text": [
            "Best run metrics:\n",
            "- norm_macro_recall: 0.8902205614498688\n",
            "- matthews_correlation: 0.8918972733002116\n",
            "- log_loss: 0.1186120500342212\n",
            "- average_precision_score_macro: 0.9888863976623419\n",
            "- recall_score_micro: 0.9520809898762654\n",
            "- precision_score_micro: 0.9520809898762654\n",
            "- AUC_weighted: 0.9904812577250306\n",
            "- weighted_accuracy: 0.9576485145517856\n",
            "- precision_score_macro: 0.9467885716011675\n",
            "- AUC_micro: 0.9916008305485999\n",
            "- balanced_accuracy: 0.9451102807249344\n",
            "- average_precision_score_weighted: 0.9910085472336622\n",
            "- f1_score_macro: 0.9459413118209691\n",
            "- average_precision_score_micro: 0.9918359683181054\n",
            "- recall_score_weighted: 0.9520809898762654\n",
            "- accuracy: 0.9520809898762654\n",
            "- recall_score_macro: 0.9451102807249344\n",
            "- f1_score_micro: 0.9520809898762654\n",
            "- f1_score_weighted: 0.952035905457969\n",
            "- precision_score_weighted: 0.9520038306966419\n",
            "- AUC_macro: 0.9904812577250306\n",
            "- accuracy_table: aml://artifactId/ExperimentRun/dcid.AutoML_af2d1129-c8dd-4000-be1a-3e4f42d8e882_0/accuracy_table\n",
            "- confusion_matrix: aml://artifactId/ExperimentRun/dcid.AutoML_af2d1129-c8dd-4000-be1a-3e4f42d8e882_0/confusion_matrix\n",
            "Best run steps:\n",
            "- datatransformer\n",
            "- MaxAbsScaler\n",
            "- LightGBMClassifier\n"
          ]
        }
      ],
      "execution_count": 15,
      "metadata": {
        "collapsed": true,
        "jupyter": {
          "source_hidden": false,
          "outputs_hidden": false
        },
        "nteract": {
          "transient": {
            "deleting": false
          }
        },
        "gather": {
          "logged": 1620640842225
        }
      }
    },
    {
      "cell_type": "markdown",
      "source": [
        "> **More Information**: For more information Automated Machine Learning, see the [Azure ML documentation](https://docs.microsoft.com/azure/machine-learning/how-to-configure-auto-train)."
      ],
      "metadata": {}
    }
  ],
  "metadata": {
    "kernelspec": {
      "name": "python3-azureml",
      "language": "python",
      "display_name": "Python 3.6 - AzureML"
    },
    "language_info": {
      "name": "python",
      "version": "3.6.9",
      "mimetype": "text/x-python",
      "codemirror_mode": {
        "name": "ipython",
        "version": 3
      },
      "pygments_lexer": "ipython3",
      "nbconvert_exporter": "python",
      "file_extension": ".py"
    },
    "kernel_info": {
      "name": "python3-azureml"
    },
    "nteract": {
      "version": "nteract-front-end@1.0.0"
    }
  },
  "nbformat": 4,
  "nbformat_minor": 2
}