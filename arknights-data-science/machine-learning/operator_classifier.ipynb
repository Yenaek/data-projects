{
 "cells": [
  {
   "cell_type": "code",
   "execution_count": 40,
   "source": [
    "# Imports\r\n",
    "import pandas as pd\r\n",
    "from sklearn import tree\r\n",
    "from sklearn.model_selection import train_test_split\r\n",
    "from sklearn.compose import ColumnTransformer\r\n",
    "from sklearn.pipeline import Pipeline\r\n",
    "from sklearn.preprocessing import StandardScaler\r\n",
    "from sklearn import metrics\r\n",
    "import numpy as np"
   ],
   "outputs": [],
   "metadata": {}
  },
  {
   "cell_type": "markdown",
   "source": [
    "# Load data"
   ],
   "metadata": {}
  },
  {
   "cell_type": "code",
   "execution_count": 41,
   "source": [
    "df = pd.read_csv(\"..//ingestion//arknights_operator_stats.csv\")\r\n",
    "df.head()"
   ],
   "outputs": [
    {
     "output_type": "execute_result",
     "data": {
      "text/plain": [
       "  operator  rarity       class  promotion_level  level   hp  attack  defense  \\\n",
       "0   Mizuki     6.0  Specialist                0      1  760     372      155   \n",
       "1   Mizuki     6.0  Specialist                0      2  765     375      157   \n",
       "2   Mizuki     6.0  Specialist                0      3  771     379      158   \n",
       "3   Mizuki     6.0  Specialist                0      4  776     382      160   \n",
       "4   Mizuki     6.0  Specialist                0      5  782     385      161   \n",
       "\n",
       "   resistance  redeployment_time  dp_cost  block_count  attack_interval  \\\n",
       "0          10                 70       19            0              3.5   \n",
       "1          10                 70       19            0              3.5   \n",
       "2          10                 70       19            0              3.5   \n",
       "3          10                 70       19            0              3.5   \n",
       "4          10                 70       19            0              3.5   \n",
       "\n",
       "  cn_release_date global_release_date  is_limited  \n",
       "0        8/3/2021                 NaN         0.0  \n",
       "1        8/3/2021                 NaN         0.0  \n",
       "2        8/3/2021                 NaN         0.0  \n",
       "3        8/3/2021                 NaN         0.0  \n",
       "4        8/3/2021                 NaN         0.0  "
      ],
      "text/html": [
       "<div>\n",
       "<style scoped>\n",
       "    .dataframe tbody tr th:only-of-type {\n",
       "        vertical-align: middle;\n",
       "    }\n",
       "\n",
       "    .dataframe tbody tr th {\n",
       "        vertical-align: top;\n",
       "    }\n",
       "\n",
       "    .dataframe thead th {\n",
       "        text-align: right;\n",
       "    }\n",
       "</style>\n",
       "<table border=\"1\" class=\"dataframe\">\n",
       "  <thead>\n",
       "    <tr style=\"text-align: right;\">\n",
       "      <th></th>\n",
       "      <th>operator</th>\n",
       "      <th>rarity</th>\n",
       "      <th>class</th>\n",
       "      <th>promotion_level</th>\n",
       "      <th>level</th>\n",
       "      <th>hp</th>\n",
       "      <th>attack</th>\n",
       "      <th>defense</th>\n",
       "      <th>resistance</th>\n",
       "      <th>redeployment_time</th>\n",
       "      <th>dp_cost</th>\n",
       "      <th>block_count</th>\n",
       "      <th>attack_interval</th>\n",
       "      <th>cn_release_date</th>\n",
       "      <th>global_release_date</th>\n",
       "      <th>is_limited</th>\n",
       "    </tr>\n",
       "  </thead>\n",
       "  <tbody>\n",
       "    <tr>\n",
       "      <th>0</th>\n",
       "      <td>Mizuki</td>\n",
       "      <td>6.0</td>\n",
       "      <td>Specialist</td>\n",
       "      <td>0</td>\n",
       "      <td>1</td>\n",
       "      <td>760</td>\n",
       "      <td>372</td>\n",
       "      <td>155</td>\n",
       "      <td>10</td>\n",
       "      <td>70</td>\n",
       "      <td>19</td>\n",
       "      <td>0</td>\n",
       "      <td>3.5</td>\n",
       "      <td>8/3/2021</td>\n",
       "      <td>NaN</td>\n",
       "      <td>0.0</td>\n",
       "    </tr>\n",
       "    <tr>\n",
       "      <th>1</th>\n",
       "      <td>Mizuki</td>\n",
       "      <td>6.0</td>\n",
       "      <td>Specialist</td>\n",
       "      <td>0</td>\n",
       "      <td>2</td>\n",
       "      <td>765</td>\n",
       "      <td>375</td>\n",
       "      <td>157</td>\n",
       "      <td>10</td>\n",
       "      <td>70</td>\n",
       "      <td>19</td>\n",
       "      <td>0</td>\n",
       "      <td>3.5</td>\n",
       "      <td>8/3/2021</td>\n",
       "      <td>NaN</td>\n",
       "      <td>0.0</td>\n",
       "    </tr>\n",
       "    <tr>\n",
       "      <th>2</th>\n",
       "      <td>Mizuki</td>\n",
       "      <td>6.0</td>\n",
       "      <td>Specialist</td>\n",
       "      <td>0</td>\n",
       "      <td>3</td>\n",
       "      <td>771</td>\n",
       "      <td>379</td>\n",
       "      <td>158</td>\n",
       "      <td>10</td>\n",
       "      <td>70</td>\n",
       "      <td>19</td>\n",
       "      <td>0</td>\n",
       "      <td>3.5</td>\n",
       "      <td>8/3/2021</td>\n",
       "      <td>NaN</td>\n",
       "      <td>0.0</td>\n",
       "    </tr>\n",
       "    <tr>\n",
       "      <th>3</th>\n",
       "      <td>Mizuki</td>\n",
       "      <td>6.0</td>\n",
       "      <td>Specialist</td>\n",
       "      <td>0</td>\n",
       "      <td>4</td>\n",
       "      <td>776</td>\n",
       "      <td>382</td>\n",
       "      <td>160</td>\n",
       "      <td>10</td>\n",
       "      <td>70</td>\n",
       "      <td>19</td>\n",
       "      <td>0</td>\n",
       "      <td>3.5</td>\n",
       "      <td>8/3/2021</td>\n",
       "      <td>NaN</td>\n",
       "      <td>0.0</td>\n",
       "    </tr>\n",
       "    <tr>\n",
       "      <th>4</th>\n",
       "      <td>Mizuki</td>\n",
       "      <td>6.0</td>\n",
       "      <td>Specialist</td>\n",
       "      <td>0</td>\n",
       "      <td>5</td>\n",
       "      <td>782</td>\n",
       "      <td>385</td>\n",
       "      <td>161</td>\n",
       "      <td>10</td>\n",
       "      <td>70</td>\n",
       "      <td>19</td>\n",
       "      <td>0</td>\n",
       "      <td>3.5</td>\n",
       "      <td>8/3/2021</td>\n",
       "      <td>NaN</td>\n",
       "      <td>0.0</td>\n",
       "    </tr>\n",
       "  </tbody>\n",
       "</table>\n",
       "</div>"
      ]
     },
     "metadata": {},
     "execution_count": 41
    }
   ],
   "metadata": {}
  },
  {
   "cell_type": "markdown",
   "source": [
    "# Pre-process data"
   ],
   "metadata": {}
  },
  {
   "cell_type": "code",
   "execution_count": 42,
   "source": [
    "df.columns"
   ],
   "outputs": [
    {
     "output_type": "execute_result",
     "data": {
      "text/plain": [
       "Index(['operator', 'rarity', 'class', 'promotion_level', 'level', 'hp',\n",
       "       'attack', 'defense', 'resistance', 'redeployment_time', 'dp_cost',\n",
       "       'block_count', 'attack_interval', 'cn_release_date',\n",
       "       'global_release_date', 'is_limited'],\n",
       "      dtype='object')"
      ]
     },
     "metadata": {},
     "execution_count": 42
    }
   ],
   "metadata": {}
  },
  {
   "cell_type": "code",
   "execution_count": 43,
   "source": [
    "# Remove undesired features\r\n",
    "df_max_stats = df.drop([\"cn_release_date\", \"global_release_date\", \"is_limited\"], axis=\"columns\")\r\n",
    "\r\n",
    "# Keep only the maxed out stats for each operator\r\n",
    "df_max_stats = df_max_stats.groupby(\"operator\").max()\r\n",
    "# Keep the operator names as a column, not the index\r\n",
    "df_max_stats.reset_index(inplace=True)"
   ],
   "outputs": [],
   "metadata": {}
  },
  {
   "cell_type": "code",
   "execution_count": 44,
   "source": [
    "# Reorder columns to use the label as the last column\r\n",
    "new_col_order = df_max_stats.columns.tolist()\r\n",
    "new_col_order.remove(\"class\")\r\n",
    "new_col_order.append(\"class\")\r\n",
    "df_max_stats = df_max_stats[new_col_order]"
   ],
   "outputs": [],
   "metadata": {}
  },
  {
   "cell_type": "code",
   "execution_count": 45,
   "source": [
    "# Save a list with the names of operators\r\n",
    "operators = df_max_stats[\"operator\"].tolist()\r\n",
    "# Remove the \"operator\" column, keeping only numeric features and the label\r\n",
    "df_max_stats.drop(\"operator\", axis=\"columns\", inplace=True)"
   ],
   "outputs": [],
   "metadata": {}
  },
  {
   "cell_type": "code",
   "execution_count": 46,
   "source": [
    "# Normalize numeric features\r\n",
    "numeric_transformer = Pipeline(steps=[\r\n",
    "    (\"scaler\", StandardScaler())\r\n",
    "])\r\n",
    "\r\n",
    "# Indices of numeric features (column-wise)\r\n",
    "numeric_features = list(range(df_max_stats.shape[1]-1))\r\n",
    "# Combine preprocessing steps\r\n",
    "preprocessor = ColumnTransformer(\r\n",
    "    transformers=[\r\n",
    "        (\"num\", numeric_transformer, numeric_features)\r\n",
    "    ]\r\n",
    ")"
   ],
   "outputs": [
    {
     "output_type": "execute_result",
     "data": {
      "text/plain": [
       "ColumnTransformer(transformers=[('num',\n",
       "                                 Pipeline(steps=[('scaler', StandardScaler())]),\n",
       "                                 [0, 1, 2, 3, 4, 5, 6, 7, 8, 9, 10])])"
      ]
     },
     "metadata": {},
     "execution_count": 46
    }
   ],
   "metadata": {}
  },
  {
   "cell_type": "markdown",
   "source": [
    "# Build the Decision Tree model"
   ],
   "metadata": {}
  },
  {
   "cell_type": "code",
   "execution_count": 49,
   "source": [
    "features_list = [\r\n",
    "    \"rarity\", \"promotion_level\", \r\n",
    "    \"level\", \"hp\", \"attack\", \r\n",
    "    \"defense\", \"resistance\", \"redeployment_time\", \r\n",
    "    \"dp_cost\", \"block_count\", \"attack_interval\"\r\n",
    "]\r\n",
    "\r\n",
    "label_list = [\"class\"]\r\n",
    "\r\n",
    "features = df_max_stats[features_list].to_numpy()\r\n",
    "label = df_max_stats[label_list].to_numpy()\r\n",
    "\r\n",
    "x_train, x_test, y_train, y_test = train_test_split(features, label, test_size=0.2, random_state=123, shuffle=True)"
   ],
   "outputs": [],
   "metadata": {}
  },
  {
   "cell_type": "code",
   "execution_count": 50,
   "source": [
    "# Create the model as pipeline that includes the pre-processing steps and the algorithm\r\n",
    "pipeline = Pipeline(steps=[\r\n",
    "    (\"preprocessor\", preprocessor),\r\n",
    "    (\"classifier\", tree.DecisionTreeClassifier())\r\n",
    "])\r\n",
    "# Train the model\r\n",
    "pipeline.fit(x_train, y_train)\r\n",
    "# Make predictions\r\n",
    "y_pred = pipeline.predict(x_test)"
   ],
   "outputs": [],
   "metadata": {}
  },
  {
   "cell_type": "code",
   "execution_count": 51,
   "source": [
    "accuracy = round(metrics.accuracy_score(y_test, y_pred) * 100, 2)\r\n",
    "f\"Accuracy: {accuracy}%\""
   ],
   "outputs": [
    {
     "output_type": "execute_result",
     "data": {
      "text/plain": [
       "'Accuracy: 78.57%'"
      ]
     },
     "metadata": {},
     "execution_count": 51
    }
   ],
   "metadata": {}
  },
  {
   "cell_type": "code",
   "execution_count": 56,
   "source": [
    "for label, pred in zip(y_test, y_pred):\r\n",
    "    if label != pred:\r\n",
    "        print(f\"{label[0]} was wrongly predicted as {pred}\")"
   ],
   "outputs": [
    {
     "output_type": "stream",
     "name": "stdout",
     "text": [
      "Vanguard was wrongly predicted as Guard\n",
      "Defender was wrongly predicted as Sniper\n",
      "Vanguard was wrongly predicted as Guard\n",
      "Guard was wrongly predicted as Vanguard\n",
      "Supporter was wrongly predicted as Specialist\n",
      "Vanguard was wrongly predicted as Supporter\n",
      "Sniper was wrongly predicted as Specialist\n",
      "Supporter was wrongly predicted as Specialist\n",
      "Specialist was wrongly predicted as Sniper\n"
     ]
    }
   ],
   "metadata": {}
  }
 ],
 "metadata": {
  "orig_nbformat": 4,
  "language_info": {
   "name": "python",
   "version": "3.9.1",
   "mimetype": "text/x-python",
   "codemirror_mode": {
    "name": "ipython",
    "version": 3
   },
   "pygments_lexer": "ipython3",
   "nbconvert_exporter": "python",
   "file_extension": ".py"
  },
  "kernelspec": {
   "name": "python3",
   "display_name": "Python 3.9.1 64-bit ('arknights-data-science-xHQyann1': virtualenv)"
  },
  "interpreter": {
   "hash": "bbc4126f5629dde0d61951f9e0e37e04c279f5f46b2bdf791399eccdd1137e00"
  }
 },
 "nbformat": 4,
 "nbformat_minor": 2
}