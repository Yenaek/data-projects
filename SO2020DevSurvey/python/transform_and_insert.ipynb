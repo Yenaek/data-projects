{
 "cells": [
  {
   "cell_type": "markdown",
   "metadata": {},
   "source": [
    "# Stack Overflow Developer Survey 2020 Data Analysis - Part 1"
   ]
  },
  {
   "cell_type": "markdown",
   "metadata": {},
   "source": [
    "This is a two-part data engineering and analysis of the Stack Overflow Developer Survey 2020, using Python and PostgreSQL. \n",
    "\n",
    "The first part is the data engineering part. It consists in data pre-processing, creation of a PostgreSQL database and insertion of the data in said database. This is achieved with pandas, NumPy the psycopg2 driver.\n",
    "\n",
    "The second part is the data analysis parts. It consists in extracting data from the database, namely for analysis and visualization using Plotly. Part two is available [here](https://so2020devsurvey-part2--ze1598.repl.co/)."
   ]
  },
  {
   "cell_type": "markdown",
   "metadata": {},
   "source": [
    "There were a total of 64461 respondents for a total of 61 questions. However, less than 30 questions are considered. The main purpose of this analysis is to explore who are the respondents, such as how they use code professionally, their country, academic background, technologies they work with, etc. "
   ]
  },
  {
   "cell_type": "markdown",
   "metadata": {},
   "source": [
    "The original dataset can be downloaded from Stack Overflow's website [here](https://insights.stackoverflow.com/survey)."
   ]
  },
  {
   "cell_type": "markdown",
   "metadata": {},
   "source": [
    "# Imports"
   ]
  },
  {
   "cell_type": "code",
   "execution_count": 1,
   "metadata": {
    "ExecuteTime": {
     "end_time": "2020-07-30T16:24:13.122462Z",
     "start_time": "2020-07-30T16:24:09.375043Z"
    }
   },
   "outputs": [],
   "source": [
    "import pandas as pd\n",
    "import numpy as np\n",
    "from configparser import ConfigParser\n",
    "import psycopg2\n",
    "import psycopg2.extras as psql_extras\n",
    "from typing import Dict, List"
   ]
  },
  {
   "cell_type": "markdown",
   "metadata": {},
   "source": [
    "# Helper Functions"
   ]
  },
  {
   "cell_type": "markdown",
   "metadata": {},
   "source": [
    "## Data Transformations"
   ]
  },
  {
   "cell_type": "code",
   "execution_count": 2,
   "metadata": {
    "ExecuteTime": {
     "end_time": "2020-07-30T16:24:13.129465Z",
     "start_time": "2020-07-30T16:24:13.123463Z"
    }
   },
   "outputs": [],
   "source": [
    "def yearly_comp_calculation(row: pd.Series) -> float:\n",
    "    \"\"\"Calculate the yearly compensation taking into account the compensation frequency.\"\"\"\n",
    "    if np.isnan(row[\"ConvertedComp\"]):\n",
    "        return None\n",
    "    elif row[\"CompFreq\"] == \"Weekly\":\n",
    "        return row[\"ConvertedComp\"] * 52\n",
    "    elif row[\"CompFreq\"] == \"Monthly\":\n",
    "        return row[\"ConvertedComp\"] * 12\n",
    "    elif row[\"CompFreq\"] == \"Yearly\":\n",
    "        return row[\"ConvertedComp\"]\n",
    "    elif row[\"CompFreq\"] == np.nan:\n",
    "        return row[\"ConvertedComp\"]"
   ]
  },
  {
   "cell_type": "code",
   "execution_count": 3,
   "metadata": {
    "ExecuteTime": {
     "end_time": "2020-07-30T16:24:13.139466Z",
     "start_time": "2020-07-30T16:24:13.133466Z"
    }
   },
   "outputs": [],
   "source": [
    "def unpivot_delimited_series(\n",
    "    series: pd.Series,\n",
    "    delimiter: str\n",
    ") -> pd.DataFrame:\n",
    "    \"\"\"\n",
    "    Split and unpivot a Series of delimited data, returning a new DataFrame that has two columns reserved for a two-level index that relates the individual values to their original index.\n",
    "    \"\"\"\n",
    "\n",
    "    # First, split each row's data at the specified delimiter,\\\n",
    "    # putting each individual value on its own column.\n",
    "    # Then, those individual values are unpivoted (stacked) so that the\\\n",
    "    # result is once again one single Series/column\n",
    "    unpivoted_data = series\\\n",
    "        .apply( lambda series_row: pd.Series(series_row.split(delimiter)) )\\\n",
    "        .stack()\n",
    "\n",
    "    # Since the above results in a multi-level index, now we need to\\\n",
    "    # reset the Series's index to be able to access those levels as\\\n",
    "    # normal columns later, obtaining a DataFrame\n",
    "    unpivoted_data = unpivoted_data.reset_index()\n",
    "    return unpivoted_data"
   ]
  },
  {
   "cell_type": "code",
   "execution_count": 4,
   "metadata": {
    "ExecuteTime": {
     "end_time": "2020-07-30T16:24:13.146466Z",
     "start_time": "2020-07-30T16:24:13.141465Z"
    }
   },
   "outputs": [],
   "source": [
    "def get_other_colum_names(\n",
    "    source_df: pd.DataFrame,\n",
    "    unpivoted_column: str\n",
    ") -> List[str]:\n",
    "    \"\"\"\n",
    "    Get a list with the name of all the existing columns in the source\n",
    "    DataFrame, excluding the one that had data with delimiters.\n",
    "    \"\"\"\n",
    "\n",
    "    # Get all the available column names\n",
    "    other_columns = list(source_df.columns.values)\n",
    "    # And remove the column that had delimited data\n",
    "    other_columns.remove(unpivoted_column)\n",
    "    return other_columns"
   ]
  },
  {
   "cell_type": "code",
   "execution_count": 5,
   "metadata": {
    "ExecuteTime": {
     "end_time": "2020-07-30T16:24:13.159468Z",
     "start_time": "2020-07-30T16:24:13.148466Z"
    }
   },
   "outputs": [],
   "source": [
    "def unpivot_delimited_data(\n",
    "    source_df: pd.DataFrame,\n",
    "    target_column: str,\n",
    "    delimiter: str\n",
    ") -> pd.DataFrame:\n",
    "    \"\"\"\n",
    "    Given a DataFrame that has one column with delimited data, split that data and unpivot the individual values into their own rows.\n",
    "    \"\"\"\n",
    "\n",
    "    # Get a DataFrame with the unpivoted data and respective two-level index\n",
    "    unpivoted_series = unpivot_delimited_series(source_df[target_column], \";\")\n",
    "\n",
    "    # Reset the index of the source DataFrame so we can select the original\\\n",
    "    # index as a normal column\n",
    "    source_df = source_df.reset_index()\n",
    "\n",
    "    # Get a list of the source DataFrame columns excluding the one with\\\n",
    "    # delimited data\n",
    "    source_df_other_columns = get_other_colum_names(source_df, target_column)\n",
    "\n",
    "    # Choose the columns from the source DataFrame to keep (this includes\\\n",
    "    # a column with the original index, called `index` after the index reset)\n",
    "    source_data_to_merge = source_df[source_df_other_columns]\n",
    "\n",
    "    # Merge the columns with non-delimited data to the unpivoted data\n",
    "    # The merge is based on the original index of the source DataFrame, which\\\n",
    "    # is found as on the first-level index column of the unpivoted data\\\n",
    "    # (`level_0`) and in the old index column of the source data (`index`)\n",
    "    merged_data = pd.merge(\n",
    "        unpivoted_series,\n",
    "        source_data_to_merge,\n",
    "        how=\"inner\",\n",
    "        left_on=\"level_0\",\n",
    "        right_on=\"index\"\n",
    "    )\n",
    "\n",
    "    # Rename the column with unpivoted data (it ends up being called 0 (zero))\n",
    "    merged_data.rename(\n",
    "        columns={0: target_column},\n",
    "        inplace=True\n",
    "    )\n",
    "\n",
    "    # List with the names of the columns to keep (the only index kept is the\\\n",
    "    # post-reset index of the source DataFrame)\n",
    "    columns_to_keep = source_df_other_columns + [target_column]\n",
    "    columns_to_keep.remove(\"index\")\n",
    "\n",
    "    # Filter out the unwanted columns\n",
    "    merged_data = merged_data[columns_to_keep]\n",
    "\n",
    "    return merged_data"
   ]
  },
  {
   "cell_type": "markdown",
   "metadata": {},
   "source": [
    "## Database Operations"
   ]
  },
  {
   "cell_type": "code",
   "execution_count": 6,
   "metadata": {
    "ExecuteTime": {
     "end_time": "2020-07-30T16:24:13.167978Z",
     "start_time": "2020-07-30T16:24:13.161992Z"
    }
   },
   "outputs": [],
   "source": [
    "def load_connection_info(\n",
    "    ini_filename: str\n",
    ") -> Dict[str, str]:\n",
    "    \n",
    "    parser = ConfigParser()\n",
    "    parser.read(ini_filename)\n",
    "    # Create a dictionary of the variables stored under the \"postgresql\" section of the .ini\n",
    "    conn_info = {param[0]: param[1] for param in parser.items(\"postgresql\")}\n",
    "    return conn_info"
   ]
  },
  {
   "cell_type": "code",
   "execution_count": 7,
   "metadata": {
    "ExecuteTime": {
     "end_time": "2020-07-30T16:24:13.180977Z",
     "start_time": "2020-07-30T16:24:13.170976Z"
    }
   },
   "outputs": [],
   "source": [
    "def create_db(\n",
    "    conn_info: Dict[str, str],\n",
    ") -> None:\n",
    "    \"\"\"\n",
    "    Create a new PostgreSQL database.\n",
    "    \"\"\"\n",
    "    \n",
    "    # Connect just to PostgreSQL with the user loaded from the .ini file\n",
    "    connection_string = f\"user={conn_info['user']} password={conn_info['password']}\"\n",
    "    conn = psycopg2.connect(connection_string)\n",
    "    cur = conn.cursor()\n",
    "\n",
    "    # \"CREATE DATABASE\" requires automatic commits\n",
    "    conn.autocommit = True\n",
    "    sql_query = f\"CREATE DATABASE {conn_info['database']}\"\n",
    "\n",
    "    try:\n",
    "        cur.execute(sql_query)\n",
    "    except Exception as e:\n",
    "        print(f\"{type(e).__name__}: {e}\")\n",
    "        print(f\"Query: {cur.query}\")\n",
    "        cur.close()\n",
    "    else:\n",
    "        # Revert autocommit settings\n",
    "        conn.autocommit = False"
   ]
  },
  {
   "cell_type": "code",
   "execution_count": 8,
   "metadata": {
    "ExecuteTime": {
     "end_time": "2020-07-30T16:24:13.190979Z",
     "start_time": "2020-07-30T16:24:13.184979Z"
    }
   },
   "outputs": [],
   "source": [
    "def create_table(\n",
    "    sql_query: str, \n",
    "    conn: psycopg2.extensions.connection, \n",
    "    cur: psycopg2.extensions.cursor\n",
    ") -> None:\n",
    "    \"\"\"\n",
    "    Create a table in a PostgreSQL database.\n",
    "    \"\"\"\n",
    "    \n",
    "    try:\n",
    "        # Execute the table creation query\n",
    "        cur.execute(sql_query)\n",
    "    except Exception as e:\n",
    "        print(f\"{type(e).__name__}: {e}\")\n",
    "        print(f\"Query: {cur.query}\")\n",
    "        conn.rollback()\n",
    "    else:\n",
    "        # To take effect, changes need be committed to the database\n",
    "        conn.commit()"
   ]
  },
  {
   "cell_type": "code",
   "execution_count": 9,
   "metadata": {
    "ExecuteTime": {
     "end_time": "2020-07-30T16:24:13.201981Z",
     "start_time": "2020-07-30T16:24:13.193978Z"
    }
   },
   "outputs": [],
   "source": [
    "def insert_data(\n",
    "    query: str,\n",
    "    conn: psycopg2.extensions.connection,\n",
    "    cur: psycopg2.extensions.cursor,\n",
    "    df: pd.DataFrame,\n",
    "    page_size: int\n",
    ") -> None:\n",
    "    \n",
    "    \"\"\"\n",
    "    Insert a pandas DataFrame in a PostgreSQL table, using batch insertion.\n",
    "    \"\"\"\n",
    "    data_tuples = [tuple(row.to_numpy()) for index, row in df.iterrows()]\n",
    "\n",
    "    try:\n",
    "        psql_extras.execute_values(cur, query, data_tuples, page_size=page_size)\n",
    "\n",
    "    except Exception as error:\n",
    "        print(f\"{type(error).__name__}: {error}\")\n",
    "        print(\"Query:\", cur.query)\n",
    "        conn.rollback()\n",
    "\n",
    "    else:\n",
    "        conn.commit()"
   ]
  },
  {
   "cell_type": "markdown",
   "metadata": {},
   "source": [
    "# Data Pre-Processing"
   ]
  },
  {
   "cell_type": "code",
   "execution_count": 10,
   "metadata": {
    "ExecuteTime": {
     "end_time": "2020-07-30T16:24:14.692107Z",
     "start_time": "2020-07-30T16:24:13.204978Z"
    }
   },
   "outputs": [],
   "source": [
    "data = pd.read_csv(\"..\\\\data\\\\survey_results_public.csv\")\n",
    "data = data[[\"Respondent\", \"MainBranch\", \"Hobbyist\", \"Age\", \"CompFreq\", \"ConvertedComp\", \"Country\", \"DatabaseWorkedWith\", \"DevType\", \"EdLevel\", \"Employment\", \"Gender\", \"JobFactors\", \"LanguageWorkedWith\", \"NEWCollabToolsWorkedWith\", \"NEWOvertime\", \"NEWStuck\", \"OpSys\", \"PlatformWorkedWith\", \"UndergradMajor\", \"WebframeWorkedWith\", \"WorkWeekHrs\"]]\n",
    "\n",
    "renamed_columns = {\n",
    "    \"MainBranch\": \"ProgrammingUsage\",\n",
    "    \"DatabaseWorkedWith\": \"Databases\",\n",
    "    \"DevType\": \"DevRoles\",\n",
    "    \"Employment\": \"EmploymentStatus\",\n",
    "    \"LanguageWorkedWith\": \"ProgLanguages\",\n",
    "    \"NEWCollabToolsWorkedWith\": \"CollabTools\",\n",
    "    \"NEWOvertime\": \"Overtime\",\n",
    "    \"NEWStuck\": \"StuckSolutions\",\n",
    "    \"PlatformWorkedWith\": \"Platforms\",\n",
    "    \"UndergradMajor\": \"UndergradMajor\",\n",
    "    \"WebframeWorkedWith\": \"WebFW\",\n",
    "}\n",
    "data.rename(columns=renamed_columns, inplace=True)\n",
    "\n",
    "collab_tools = data[[\"Respondent\", \"CollabTools\"]]\n",
    "databases = data[[\"Respondent\", \"Databases\"]]\n",
    "dev_roles = data[[\"Respondent\", \"DevRoles\"]]\n",
    "job_factors = data[[\"Respondent\", \"JobFactors\"]]\n",
    "platforms = data[[\"Respondent\", \"Platforms\"]]\n",
    "prog_languages = data[[\"Respondent\", \"ProgLanguages\"]]\n",
    "stuck_solutions = data[[\"Respondent\", \"StuckSolutions\"]]\n",
    "web_fws = data[[\"Respondent\", \"WebFW\"]]\n",
    "respondents = data[[\"Respondent\", \"ProgrammingUsage\", \"Hobbyist\", \"Age\", \"CompFreq\", \"ConvertedComp\", \"Country\", \"EdLevel\", \"EmploymentStatus\", \"Gender\", \"Overtime\", \"OpSys\", \"UndergradMajor\", \"WorkWeekHrs\"]]"
   ]
  },
  {
   "cell_type": "markdown",
   "metadata": {},
   "source": [
    "## respondents Table"
   ]
  },
  {
   "cell_type": "code",
   "execution_count": null,
   "metadata": {
    "ExecuteTime": {
     "end_time": "2020-07-30T16:24:16.706579Z",
     "start_time": "2020-07-30T16:24:14.693107Z"
    }
   },
   "outputs": [],
   "source": [
    "respondents.loc[:, \"YearlyCompensation\"] = respondents.apply(yearly_comp_calculation, axis=\"columns\")\n",
    "respondents.drop([\"CompFreq\", \"ConvertedComp\"], axis=\"columns\", inplace=True)"
   ]
  },
  {
   "cell_type": "code",
   "execution_count": null,
   "metadata": {
    "ExecuteTime": {
     "end_time": "2020-07-30T16:24:16.872648Z",
     "start_time": "2020-07-30T16:24:16.708564Z"
    }
   },
   "outputs": [],
   "source": [
    "respondents[\"Country\"].replace({\"nan\": None}, inplace=True, regex=True)\n",
    "respondents.loc[:, \"ProgrammingUsage\"] = respondents[\"ProgrammingUsage\"].map(\n",
    "    lambda response: \n",
    "        None if (response == np.nan)\n",
    "        else \"Professional developer\" if (response == \"I am a developer by profession\")\n",
    "        else \"Hobbyist developer\" if (response == \"I code primarily as a hobby\")\n",
    "        else \"Worked as a developer before\" if (response == \"I used to be a developer by profession, but no longer am\")\n",
    "        else \"Developer as part of job\" if (response == \"I am not primarily a developer, but I write code sometimes as part of my work\")\n",
    "        else \"Student learning to code\" if (response == \"I am a student who is learning to code\")\n",
    "        else response\n",
    ")"
   ]
  },
  {
   "cell_type": "code",
   "execution_count": 13,
   "metadata": {
    "ExecuteTime": {
     "end_time": "2020-07-30T16:24:16.987170Z",
     "start_time": "2020-07-30T16:24:16.873648Z"
    }
   },
   "outputs": [],
   "source": [
    "respondents[\"Country\"].replace({\"nan\": None}, inplace=True, regex=True)\n",
    "respondents.loc[:, \"Country\"] = respondents[\"Country\"].map(\n",
    "    lambda response: \n",
    "        \"United States of America\" if (response == \"United States\")\n",
    "        else \"Russia\" if (response == \"Russian Federation\")\n",
    "        else response\n",
    ")"
   ]
  },
  {
   "cell_type": "code",
   "execution_count": 14,
   "metadata": {
    "ExecuteTime": {
     "end_time": "2020-07-30T16:24:17.094177Z",
     "start_time": "2020-07-30T16:24:16.990172Z"
    }
   },
   "outputs": [],
   "source": [
    "respondents[\"EdLevel\"].replace({\"nan\": None}, inplace=True, regex=True)\n",
    "respondents.loc[:, \"EdLevel\"] = respondents[\"EdLevel\"].map(\n",
    "    lambda response: \n",
    "        \"Master's degree\" if (response == \"Master’s degree (M.A., M.S., M.Eng., MBA, etc.)\")\n",
    "        else \"Bachelor's degree\" if (response == \"Bachelor’s degree (B.A., B.S., B.Eng., etc.)\")\n",
    "        else \"High School\" if (response == \"Secondary school (e.g. American high school, German Realschule or Gymnasium, etc.)\")\n",
    "        else \"Professional degree\" if (response == \"Professional degree (JD, MD, etc.)\")\n",
    "        else \"Associate degree\" if (response == \"Associate degree (A.A., A.S., etc.)\")\n",
    "        else \"Higher Ed. study w/o degree\" if (response == \"Some college/university study without earning a degree\")\n",
    "        else \"Doctoral degree\" if (response == \"Other doctoral degree (Ph.D., Ed.D., etc.)\")\n",
    "        else \"Elementary school\" if (response == \"Primary/elementary school\")\n",
    "        else \"No formal education\" if (response == \"I never completed any formal education\")\n",
    "        else response\n",
    ")"
   ]
  },
  {
   "cell_type": "code",
   "execution_count": 15,
   "metadata": {
    "ExecuteTime": {
     "end_time": "2020-07-30T16:24:17.208883Z",
     "start_time": "2020-07-30T16:24:17.095855Z"
    }
   },
   "outputs": [],
   "source": [
    "respondents[\"EmploymentStatus\"].replace({\"nan\": None}, inplace=True, regex=True)\n",
    "respondents.loc[:, \"EmploymentStatus\"] = respondents[\"EmploymentStatus\"].map(\n",
    "    lambda response: \n",
    "        \"Freelancer/Self-employed\" if (response == \"Independent contractor, freelancer, or self-employed\")\n",
    "        else response\n",
    ")"
   ]
  },
  {
   "cell_type": "code",
   "execution_count": 16,
   "metadata": {
    "ExecuteTime": {
     "end_time": "2020-07-30T16:24:17.272026Z",
     "start_time": "2020-07-30T16:24:17.210866Z"
    }
   },
   "outputs": [],
   "source": [
    "respondents[\"Gender\"].replace({np.nan: None}, inplace=True)\n",
    "respondents.loc[:, \"Gender\"] = respondents[\"Gender\"].map(\n",
    "    lambda response: \n",
    "        None if (response == None)\n",
    "        else \"Other\" if (\"Man\" in str(response) and \"Woman\" in str(response))\n",
    "        else \"Man\" if (str(response).startswith(\"Man\"))\n",
    "        else \"Woman\" if (str(response).startswith(\"Woman\"))\n",
    "        else \"Other\"\n",
    ")"
   ]
  },
  {
   "cell_type": "code",
   "execution_count": 17,
   "metadata": {
    "ExecuteTime": {
     "end_time": "2020-07-30T16:24:17.366032Z",
     "start_time": "2020-07-30T16:24:17.274012Z"
    }
   },
   "outputs": [],
   "source": [
    "respondents[\"Overtime\"].replace({\"nan\": None}, inplace=True, regex=True)\n",
    "respondents.loc[:, \"Overtime\"] = respondents[\"Overtime\"].map(\n",
    "    lambda response: \n",
    "        \"Often\" if (response == \"Often: 1-2 days per week or more\")\n",
    "        else \"Occasionally\" if (response == \"Occasionally: 1-2 days per quarter but less than monthly\")\n",
    "        else \"Sometimes\" if (response == \"Sometimes: 1-2 days per month but less than weekly\")\n",
    "        else \"Rarely\" if (response == \"Rarely: 1-2 days per year or less\")\n",
    "        else response\n",
    ")"
   ]
  },
  {
   "cell_type": "code",
   "execution_count": 18,
   "metadata": {
    "ExecuteTime": {
     "end_time": "2020-07-30T16:24:17.470036Z",
     "start_time": "2020-07-30T16:24:17.368017Z"
    }
   },
   "outputs": [],
   "source": [
    "respondents[\"UndergradMajor\"].replace({\"nan\": None}, inplace=True, regex=True)\n",
    "respondents.loc[:, \"UndergradMajor\"] = respondents[\"UndergradMajor\"].map(\n",
    "    lambda response: \n",
    "        \"CompSci/Eng or SoftEng\" if (response == \"Computer science, computer engineering, or software engineering\")\n",
    "        else \"Another Engineering discipline\" if (response == \"Another engineering discipline (such as civil, electrical, mechanical, etc.)\")\n",
    "        else \"Humanities\" if (response == \"A humanities discipline (such as literature, history, philosophy, etc.)\")\n",
    "        else \"Health Science\" if (response == \"A health science (such as nursing, pharmacy, radiology, etc.)\")\n",
    "        else \"IS/IT or SysAdmin\" if (response == \"Information systems, information technology, or system administration\")\n",
    "        else \"Natural Science\" if (response == \"A natural science (such as biology, chemistry, physics, etc.)\")\n",
    "        else \"Fine Arts/Performing Arts\" if (response == \"Fine arts or performing arts (such as graphic design, music, studio art, etc.)\")\n",
    "        else \"Social Science\" if (response == \"A social science (such as anthropology, psychology, political science, etc.)\")\n",
    "        else \"Business discipline\" if (response == \"A business discipline (such as accounting, finance, marketing, etc.)\")\n",
    "        else \"No major\" if (response == \"I never declared a major\")\n",
    "        else response\n",
    ")"
   ]
  },
  {
   "cell_type": "code",
   "execution_count": null,
   "metadata": {
    "ExecuteTime": {
     "end_time": "2020-07-30T16:24:18.272485Z",
     "start_time": "2020-07-30T16:24:17.471024Z"
    }
   },
   "outputs": [],
   "source": [
    "# Replace remaining NaN with None\n",
    "respondents.replace({np.nan: None}, inplace=True)\n",
    "respondents.replace({\"nan\": None}, inplace=True, regex=True)"
   ]
  },
  {
   "cell_type": "markdown",
   "metadata": {},
   "source": [
    "## collab_tools Table"
   ]
  },
  {
   "cell_type": "code",
   "execution_count": 20,
   "metadata": {
    "ExecuteTime": {
     "end_time": "2020-07-30T16:24:33.538424Z",
     "start_time": "2020-07-30T16:24:18.274482Z"
    }
   },
   "outputs": [],
   "source": [
    "collab_tools.loc[:, \"CollabTools\"] = collab_tools.loc[:, \"CollabTools\"].astype(\"str\")\n",
    "collab_tools_final = unpivot_delimited_data(collab_tools, \"CollabTools\", \";\")\n",
    "collab_tools_final.replace({\"nan\": None}, inplace=True, regex=True)"
   ]
  },
  {
   "cell_type": "markdown",
   "metadata": {},
   "source": [
    "## databases Table"
   ]
  },
  {
   "cell_type": "code",
   "execution_count": 21,
   "metadata": {
    "ExecuteTime": {
     "end_time": "2020-07-30T16:24:49.831543Z",
     "start_time": "2020-07-30T16:24:33.540425Z"
    }
   },
   "outputs": [],
   "source": [
    "databases.loc[:, \"Databases\"] = databases.loc[:, \"Databases\"].astype(\"str\")\n",
    "databases_final = unpivot_delimited_data(databases, \"Databases\", \";\")\n",
    "databases_final.replace({\"nan\": None}, inplace=True, regex=True)"
   ]
  },
  {
   "cell_type": "markdown",
   "metadata": {},
   "source": [
    "## dev_roles Table"
   ]
  },
  {
   "cell_type": "code",
   "execution_count": 22,
   "metadata": {
    "ExecuteTime": {
     "end_time": "2020-07-30T16:25:04.403893Z",
     "start_time": "2020-07-30T16:24:49.833523Z"
    }
   },
   "outputs": [],
   "source": [
    "dev_roles.loc[:, \"DevRoles\"] = dev_roles.loc[:, \"DevRoles\"].astype(\"str\")\n",
    "dev_roles_final = unpivot_delimited_data(dev_roles, \"DevRoles\", \";\")\n",
    "dev_roles_final[\"DevRoles\"].replace({\"nan\": None}, inplace=True, regex=True)\n",
    "\n",
    "dev_roles_final.loc[:, \"DevRoles\"] = dev_roles_final[\"DevRoles\"].map(\n",
    "    lambda response: \n",
    "        \"Desktop applications developer\" if (response == \"Developer, desktop or enterprise applications\")\n",
    "        else \"Full-stack developer\" if (response == \"Developer, full-stack\")\n",
    "        else \"Mobile developer\" if (response == \"Developer, mobile\")\n",
    "        else \"Front-end developer\" if (response == \"Developer, front-end\")\n",
    "        else \"Back-end developer\" if (response == \"Developer, back-end\")\n",
    "        else \"QA developer\" if (response == \"Developer, QA or test\")\n",
    "        else \"Game developer\" if (response == \"Developer, game or graphics\")\n",
    "        else \"Embedded applications developer\" if (response == \"Developer, embedded applications or devices\")\n",
    "        else \"Data engineer\" if (response == \"Engineer, data\")\n",
    "        else \"Data Scientist/ML specialist\" if (response == \"Data scientist or machine learning specialist\")\n",
    "        else \"Site reliability engineer\" if (response == \"Engineer, site reliability\")\n",
    "        else response\n",
    ")"
   ]
  },
  {
   "cell_type": "markdown",
   "metadata": {},
   "source": [
    "## job_factors Table"
   ]
  },
  {
   "cell_type": "code",
   "execution_count": 23,
   "metadata": {
    "ExecuteTime": {
     "end_time": "2020-07-30T16:25:18.911810Z",
     "start_time": "2020-07-30T16:25:04.409880Z"
    }
   },
   "outputs": [],
   "source": [
    "job_factors.loc[:, \"JobFactors\"] = job_factors.loc[:, \"JobFactors\"].astype(\"str\")\n",
    "job_factors_final = unpivot_delimited_data(job_factors, \"JobFactors\", \";\")\n",
    "job_factors_final[\"JobFactors\"].replace({\"nan\": None}, inplace=True, regex=True)\n",
    "\n",
    "job_factors_final.loc[:, \"JobFactors\"] = job_factors_final[\"JobFactors\"].map(\n",
    "    lambda response: \n",
    "        \"Technical compatibility\" if (response == \"Languages, frameworks, and other technologies I’d be working with\")\n",
    "        else \"Professional development\" if (response == \"Opportunities for professional development\")\n",
    "        else \"Flexible schedule\" if (response == \"Flex time or a flexible schedule\")\n",
    "        else \"Company culture\" if (response == \"Office environment or company culture\")\n",
    "        else \"Diversity of the company\" if (response == \"Diversity of the company or organization\")\n",
    "        else \"Impact of my work\" if (response == \"How widely used or impactful my work output would be\")\n",
    "        else \"Financial performance of the company\" if (response == \"Financial performance or funding status of the company or organization\")\n",
    "        else \"Team/Department fit\" if (response == \"Specific department or team I’d be working on\")\n",
    "        else response\n",
    ")"
   ]
  },
  {
   "cell_type": "markdown",
   "metadata": {},
   "source": [
    "## platforms Table"
   ]
  },
  {
   "cell_type": "code",
   "execution_count": 24,
   "metadata": {
    "ExecuteTime": {
     "end_time": "2020-07-30T16:25:32.971190Z",
     "start_time": "2020-07-30T16:25:18.914795Z"
    }
   },
   "outputs": [],
   "source": [
    "platforms.loc[:, \"Platforms\"] = platforms.loc[:, \"Platforms\"].astype(\"str\")\n",
    "platforms_final = unpivot_delimited_data(platforms, \"Platforms\", \";\")\n",
    "platforms_final.replace({\"nan\": None}, inplace=True, regex=True)"
   ]
  },
  {
   "cell_type": "markdown",
   "metadata": {},
   "source": [
    "## prog_languages Table"
   ]
  },
  {
   "cell_type": "code",
   "execution_count": 25,
   "metadata": {
    "ExecuteTime": {
     "end_time": "2020-07-30T16:25:47.760634Z",
     "start_time": "2020-07-30T16:25:32.973191Z"
    }
   },
   "outputs": [],
   "source": [
    "prog_languages.loc[:, \"ProgLanguages\"] = prog_languages.loc[:, \"ProgLanguages\"].astype(\"str\")\n",
    "prog_languages_final = unpivot_delimited_data(prog_languages, \"ProgLanguages\", \";\")\n",
    "prog_languages_final.replace({\"nan\": None}, inplace=True, regex=True)"
   ]
  },
  {
   "cell_type": "markdown",
   "metadata": {},
   "source": [
    "## stuck_solutions Table"
   ]
  },
  {
   "cell_type": "code",
   "execution_count": 26,
   "metadata": {
    "ExecuteTime": {
     "end_time": "2020-07-30T16:26:02.045100Z",
     "start_time": "2020-07-30T16:25:47.762634Z"
    }
   },
   "outputs": [],
   "source": [
    "stuck_solutions.loc[:, \"StuckSolutions\"] = stuck_solutions.loc[:, \"StuckSolutions\"].astype(\"str\")\n",
    "stuck_solutions_final = unpivot_delimited_data(stuck_solutions, \"StuckSolutions\", \";\")\n",
    "stuck_solutions_final[\"StuckSolutions\"].replace({\"nan\": None}, inplace=True, regex=True)\n",
    "\n",
    "stuck_solutions_final.loc[:, \"StuckSolutions\"] = stuck_solutions_final[\"StuckSolutions\"].map(\n",
    "    lambda response: \n",
    "        \"Visit another developer community\" if (response == \"Visit another developer community (please name):\")\n",
    "        else response\n",
    ")"
   ]
  },
  {
   "cell_type": "markdown",
   "metadata": {},
   "source": [
    "## web_fws Table"
   ]
  },
  {
   "cell_type": "code",
   "execution_count": 27,
   "metadata": {
    "ExecuteTime": {
     "end_time": "2020-07-30T16:26:16.629237Z",
     "start_time": "2020-07-30T16:26:02.047107Z"
    }
   },
   "outputs": [],
   "source": [
    "web_fws.loc[:, \"WebFW\"] = web_fws.loc[:, \"WebFW\"].astype(\"str\")\n",
    "web_fws_final = unpivot_delimited_data(web_fws, \"WebFW\", \";\")\n",
    "web_fws_final.replace({\"nan\": None}, inplace=True, regex=True)"
   ]
  },
  {
   "cell_type": "markdown",
   "metadata": {},
   "source": [
    "# Database Schema Creation"
   ]
  },
  {
   "cell_type": "markdown",
   "metadata": {},
   "source": [
    "## Database Creation"
   ]
  },
  {
   "cell_type": "code",
   "execution_count": 28,
   "metadata": {
    "ExecuteTime": {
     "end_time": "2020-07-30T16:26:17.692701Z",
     "start_time": "2020-07-30T16:26:16.631222Z"
    }
   },
   "outputs": [],
   "source": [
    "conn_info = load_connection_info(\"db.ini\")\n",
    "create_db(conn_info)"
   ]
  },
  {
   "cell_type": "markdown",
   "metadata": {},
   "source": [
    "## Connect to sosurvey2020"
   ]
  },
  {
   "cell_type": "code",
   "execution_count": 29,
   "metadata": {
    "ExecuteTime": {
     "end_time": "2020-07-30T16:26:17.749707Z",
     "start_time": "2020-07-30T16:26:17.694703Z"
    }
   },
   "outputs": [],
   "source": [
    "connection = psycopg2.connect(**conn_info)\n",
    "cursor = connection.cursor()"
   ]
  },
  {
   "cell_type": "markdown",
   "metadata": {},
   "source": [
    "## Table Creation"
   ]
  },
  {
   "cell_type": "code",
   "execution_count": 30,
   "metadata": {
    "ExecuteTime": {
     "end_time": "2020-07-30T16:26:17.791745Z",
     "start_time": "2020-07-30T16:26:17.751692Z"
    }
   },
   "outputs": [],
   "source": [
    "create_sql = \"\"\"\n",
    "    CREATE TABLE respondents (\n",
    "        id INTEGER PRIMARY KEY,\n",
    "        prog_usage VARCHAR(50),\n",
    "        hobbyist VARCHAR(3),\n",
    "        age INTEGER,\n",
    "        country VARCHAR(50),\n",
    "        ed_level VARCHAR(50),\n",
    "        employment_status VARCHAR(50),\n",
    "        gender VARCHAR(10),\n",
    "        overtime VARCHAR(20),\n",
    "        op_sys VARCHAR(20),\n",
    "        undegrad_major VARCHAR(50),\n",
    "        work_week_hrs INTEGER,\n",
    "        yearly_compensation INTEGER\n",
    "    )\n",
    "\"\"\"\n",
    "create_table(create_sql, connection, cursor)"
   ]
  },
  {
   "cell_type": "code",
   "execution_count": 31,
   "metadata": {
    "ExecuteTime": {
     "end_time": "2020-07-30T16:26:17.818596Z",
     "start_time": "2020-07-30T16:26:17.793578Z"
    }
   },
   "outputs": [],
   "source": [
    "create_sql = \"\"\"\n",
    "    CREATE TABLE collab_tools (\n",
    "        id SERIAL PRIMARY KEY,\n",
    "        collab_tool VARCHAR(50),\n",
    "        respondent_id INTEGER REFERENCES respondents(id)\n",
    "    )\n",
    "\"\"\"\n",
    "create_table(create_sql, connection, cursor)"
   ]
  },
  {
   "cell_type": "code",
   "execution_count": 32,
   "metadata": {
    "ExecuteTime": {
     "end_time": "2020-07-30T16:26:17.833016Z",
     "start_time": "2020-07-30T16:26:17.820579Z"
    }
   },
   "outputs": [],
   "source": [
    "create_sql = \"\"\"\n",
    "    CREATE TABLE databases (\n",
    "        id SERIAL PRIMARY KEY,\n",
    "        database VARCHAR(50),\n",
    "        respondent_id INTEGER REFERENCES respondents(id)\n",
    "    )\n",
    "\"\"\"\n",
    "create_table(create_sql, connection, cursor)"
   ]
  },
  {
   "cell_type": "code",
   "execution_count": 33,
   "metadata": {
    "ExecuteTime": {
     "end_time": "2020-07-30T16:26:17.846010Z",
     "start_time": "2020-07-30T16:26:17.834009Z"
    }
   },
   "outputs": [],
   "source": [
    "create_sql = \"\"\"\n",
    "    CREATE TABLE dev_roles (\n",
    "        id SERIAL PRIMARY KEY,\n",
    "        dev_role VARCHAR(50),\n",
    "        respondent_id INTEGER REFERENCES respondents(id)\n",
    "    )\n",
    "\"\"\"\n",
    "create_table(create_sql, connection, cursor)"
   ]
  },
  {
   "cell_type": "code",
   "execution_count": 34,
   "metadata": {
    "ExecuteTime": {
     "end_time": "2020-07-30T16:26:17.858003Z",
     "start_time": "2020-07-30T16:26:17.847997Z"
    }
   },
   "outputs": [],
   "source": [
    "create_sql = \"\"\"\n",
    "    CREATE TABLE job_factors (\n",
    "        id SERIAL PRIMARY KEY,\n",
    "        job_factor VARCHAR(50),\n",
    "        respondent_id INTEGER REFERENCES respondents(id)\n",
    "    )\n",
    "\"\"\"\n",
    "create_table(create_sql, connection, cursor)"
   ]
  },
  {
   "cell_type": "code",
   "execution_count": 35,
   "metadata": {
    "ExecuteTime": {
     "end_time": "2020-07-30T16:26:17.873017Z",
     "start_time": "2020-07-30T16:26:17.859002Z"
    }
   },
   "outputs": [],
   "source": [
    "create_sql = \"\"\"\n",
    "    CREATE TABLE platforms (\n",
    "        id SERIAL PRIMARY KEY,\n",
    "        platform VARCHAR(50),\n",
    "        respondent_id INTEGER REFERENCES respondents(id)\n",
    "    )\n",
    "\"\"\"\n",
    "create_table(create_sql, connection, cursor)"
   ]
  },
  {
   "cell_type": "code",
   "execution_count": 36,
   "metadata": {
    "ExecuteTime": {
     "end_time": "2020-07-30T16:26:17.887015Z",
     "start_time": "2020-07-30T16:26:17.874017Z"
    }
   },
   "outputs": [],
   "source": [
    "create_sql = \"\"\"\n",
    "    CREATE TABLE prog_languages (\n",
    "        id SERIAL PRIMARY KEY,\n",
    "        prog_language VARCHAR(50),\n",
    "        respondent_id INTEGER REFERENCES respondents(id)\n",
    "    )\n",
    "\"\"\"\n",
    "create_table(create_sql, connection, cursor)"
   ]
  },
  {
   "cell_type": "code",
   "execution_count": 37,
   "metadata": {
    "ExecuteTime": {
     "end_time": "2020-07-30T16:26:17.901026Z",
     "start_time": "2020-07-30T16:26:17.888015Z"
    }
   },
   "outputs": [],
   "source": [
    "create_sql = \"\"\"\n",
    "    CREATE TABLE stuck_solutions (\n",
    "        id SERIAL PRIMARY KEY,\n",
    "        stuck_solution VARCHAR(50),\n",
    "        respondent_id INTEGER REFERENCES respondents(id)\n",
    "    )\n",
    "\"\"\"\n",
    "create_table(create_sql, connection, cursor)"
   ]
  },
  {
   "cell_type": "code",
   "execution_count": 38,
   "metadata": {
    "ExecuteTime": {
     "end_time": "2020-07-30T16:26:17.916665Z",
     "start_time": "2020-07-30T16:26:17.903025Z"
    }
   },
   "outputs": [],
   "source": [
    "create_sql = \"\"\"\n",
    "    CREATE TABLE web_fws (\n",
    "        id SERIAL PRIMARY KEY,\n",
    "        web_fw VARCHAR(50),\n",
    "        respondent_id INTEGER REFERENCES respondents(id)\n",
    "    )\n",
    "\"\"\"\n",
    "create_table(create_sql, connection, cursor)"
   ]
  },
  {
   "cell_type": "markdown",
   "metadata": {},
   "source": [
    "## Data Insertion"
   ]
  },
  {
   "cell_type": "code",
   "execution_count": 39,
   "metadata": {
    "ExecuteTime": {
     "end_time": "2020-07-30T16:26:26.889910Z",
     "start_time": "2020-07-30T16:26:17.917664Z"
    }
   },
   "outputs": [],
   "source": [
    "insert_query = \"INSERT INTO respondents(id, prog_usage, hobbyist, age, country, ed_level, employment_status, gender, overtime, op_sys, undegrad_major, work_week_hrs, yearly_compensation) VALUES %s\"\n",
    "insert_data(insert_query, connection, cursor, respondents, 100)"
   ]
  },
  {
   "cell_type": "code",
   "execution_count": 40,
   "metadata": {
    "ExecuteTime": {
     "end_time": "2020-07-30T16:26:48.502571Z",
     "start_time": "2020-07-30T16:26:26.891894Z"
    }
   },
   "outputs": [],
   "source": [
    "insert_query = \"INSERT INTO collab_tools(respondent_id, collab_tool) VALUES %s\"\n",
    "insert_data(insert_query, connection, cursor, collab_tools_final, 100)"
   ]
  },
  {
   "cell_type": "code",
   "execution_count": 41,
   "metadata": {
    "ExecuteTime": {
     "end_time": "2020-07-30T16:27:04.336946Z",
     "start_time": "2020-07-30T16:26:48.503571Z"
    }
   },
   "outputs": [],
   "source": [
    "insert_query = \"INSERT INTO databases(respondent_id, database) VALUES %s\"\n",
    "insert_data(insert_query, connection, cursor, databases_final, 100)"
   ]
  },
  {
   "cell_type": "code",
   "execution_count": 42,
   "metadata": {
    "ExecuteTime": {
     "end_time": "2020-07-30T16:27:22.996354Z",
     "start_time": "2020-07-30T16:27:04.337943Z"
    }
   },
   "outputs": [],
   "source": [
    "insert_query = \"INSERT INTO dev_roles(respondent_id, dev_role) VALUES %s\"\n",
    "insert_data(insert_query, connection, cursor, dev_roles_final, 100)"
   ]
  },
  {
   "cell_type": "code",
   "execution_count": 43,
   "metadata": {
    "ExecuteTime": {
     "end_time": "2020-07-30T16:27:42.075093Z",
     "start_time": "2020-07-30T16:27:22.998346Z"
    }
   },
   "outputs": [],
   "source": [
    "insert_query = \"INSERT INTO job_factors(respondent_id, job_factor) VALUES %s\"\n",
    "insert_data(insert_query, connection, cursor, job_factors_final, 100)"
   ]
  },
  {
   "cell_type": "code",
   "execution_count": 44,
   "metadata": {
    "ExecuteTime": {
     "end_time": "2020-07-30T16:28:05.164170Z",
     "start_time": "2020-07-30T16:27:42.077093Z"
    }
   },
   "outputs": [],
   "source": [
    "insert_query = \"INSERT INTO platforms(respondent_id, platform) VALUES %s\"\n",
    "insert_data(insert_query, connection, cursor, platforms_final, 100)"
   ]
  },
  {
   "cell_type": "code",
   "execution_count": 45,
   "metadata": {
    "ExecuteTime": {
     "end_time": "2020-07-30T16:28:43.415488Z",
     "start_time": "2020-07-30T16:28:05.166169Z"
    }
   },
   "outputs": [],
   "source": [
    "insert_query = \"INSERT INTO prog_languages(respondent_id, prog_language) VALUES %s\"\n",
    "insert_data(insert_query, connection, cursor, prog_languages_final, 100)"
   ]
  },
  {
   "cell_type": "code",
   "execution_count": 46,
   "metadata": {
    "ExecuteTime": {
     "end_time": "2020-07-30T16:29:08.559963Z",
     "start_time": "2020-07-30T16:28:43.417472Z"
    }
   },
   "outputs": [],
   "source": [
    "insert_query = \"INSERT INTO stuck_solutions(respondent_id, stuck_solution) VALUES %s\"\n",
    "insert_data(insert_query, connection, cursor, stuck_solutions_final, 100)"
   ]
  },
  {
   "cell_type": "code",
   "execution_count": 47,
   "metadata": {
    "ExecuteTime": {
     "end_time": "2020-07-30T16:29:25.733262Z",
     "start_time": "2020-07-30T16:29:08.561962Z"
    }
   },
   "outputs": [],
   "source": [
    "insert_query = \"INSERT INTO web_fws(respondent_id, web_fw) VALUES %s\"\n",
    "insert_data(insert_query, connection, cursor, web_fws_final, 100)"
   ]
  },
  {
   "cell_type": "markdown",
   "metadata": {},
   "source": [
    "## Close Database Connection"
   ]
  },
  {
   "cell_type": "code",
   "execution_count": 48,
   "metadata": {
    "ExecuteTime": {
     "end_time": "2020-07-30T16:30:38.607734Z",
     "start_time": "2020-07-30T16:30:38.604749Z"
    }
   },
   "outputs": [],
   "source": [
    "connection.close()\n",
    "cursor.close()"
   ]
  }
 ],
 "metadata": {
  "kernelspec": {
   "display_name": "Python 3",
   "language": "python",
   "name": "python3"
  },
  "language_info": {
   "codemirror_mode": {
    "name": "ipython",
    "version": 3
   },
   "file_extension": ".py",
   "mimetype": "text/x-python",
   "name": "python",
   "nbconvert_exporter": "python",
   "pygments_lexer": "ipython3",
   "version": "3.7.4"
  },
  "toc": {
   "base_numbering": 1,
   "nav_menu": {},
   "number_sections": true,
   "sideBar": true,
   "skip_h1_title": false,
   "title_cell": "Table of Contents",
   "title_sidebar": "Contents",
   "toc_cell": false,
   "toc_position": {},
   "toc_section_display": true,
   "toc_window_display": false
  },
  "varInspector": {
   "cols": {
    "lenName": 16,
    "lenType": 16,
    "lenVar": 40
   },
   "kernels_config": {
    "python": {
     "delete_cmd_postfix": "",
     "delete_cmd_prefix": "del ",
     "library": "var_list.py",
     "varRefreshCmd": "print(var_dic_list())"
    },
    "r": {
     "delete_cmd_postfix": ") ",
     "delete_cmd_prefix": "rm(",
     "library": "var_list.r",
     "varRefreshCmd": "cat(var_dic_list()) "
    }
   },
   "types_to_exclude": [
    "module",
    "function",
    "builtin_function_or_method",
    "instance",
    "_Feature"
   ],
   "window_display": false
  }
 },
 "nbformat": 4,
 "nbformat_minor": 2
}
